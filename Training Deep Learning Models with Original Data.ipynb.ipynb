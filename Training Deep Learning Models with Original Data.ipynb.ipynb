{
 "cells": [
  {
   "cell_type": "code",
   "execution_count": 32,
   "metadata": {
    "colab": {
     "base_uri": "https://localhost:8080/"
    },
    "id": "Hy4DrALWHM5A",
    "outputId": "baa09b7a-44c6-46d0-ce40-7fc72372a42e"
   },
   "outputs": [
    {
     "name": "stderr",
     "output_type": "stream",
     "text": [
      "[nltk_data] Downloading package stopwords to\n",
      "[nltk_data]     C:\\Users\\Lenovo\\AppData\\Roaming\\nltk_data...\n",
      "[nltk_data]   Package stopwords is already up-to-date!\n"
     ]
    },
    {
     "data": {
      "text/plain": [
       "True"
      ]
     },
     "execution_count": 32,
     "metadata": {},
     "output_type": "execute_result"
    }
   ],
   "source": [
    "import pandas as pd\n",
    "import numpy as np\n",
    "\n",
    "from sklearn.model_selection import train_test_split\n",
    "from sklearn.model_selection import KFold\n",
    "from sklearn.preprocessing import LabelEncoder\n",
    "from sklearn.metrics import accuracy_score,recall_score,precision_score,f1_score\n",
    "\n",
    "import tensorflow as tf\n",
    "from tensorflow.keras.layers import Embedding, LSTM, Dense, Dropout, Bidirectional, SimpleRNN\n",
    "from tensorflow.keras.preprocessing.sequence import pad_sequences\n",
    "from tensorflow.keras.preprocessing.text import one_hot\n",
    "from tensorflow.keras.preprocessing.text import Tokenizer\n",
    "\n",
    "from tensorflow.keras.callbacks import ModelCheckpoint, TensorBoard\n",
    "from tensorflow.keras.models import load_model, Model\n",
    "\n",
    "from Sastrawi.Stemmer.StemmerFactory import StemmerFactory\n",
    "\n",
    "import nltk\n",
    "import re\n",
    "from nltk.corpus import stopwords\n",
    "from nltk.stem.porter import PorterStemmer\n",
    "nltk.download('stopwords')"
   ]
  },
  {
   "cell_type": "code",
   "execution_count": 2,
   "metadata": {
    "id": "B_o7TnFmG4Fl"
   },
   "outputs": [],
   "source": [
    "data = pd.read_excel('dataBerita.xlsx', usecols=['kategori', 'berita'])"
   ]
  },
  {
   "cell_type": "code",
   "execution_count": 3,
   "metadata": {},
   "outputs": [
    {
     "data": {
      "text/html": [
       "<div>\n",
       "<style scoped>\n",
       "    .dataframe tbody tr th:only-of-type {\n",
       "        vertical-align: middle;\n",
       "    }\n",
       "\n",
       "    .dataframe tbody tr th {\n",
       "        vertical-align: top;\n",
       "    }\n",
       "\n",
       "    .dataframe thead th {\n",
       "        text-align: right;\n",
       "    }\n",
       "</style>\n",
       "<table border=\"1\" class=\"dataframe\">\n",
       "  <thead>\n",
       "    <tr style=\"text-align: right;\">\n",
       "      <th></th>\n",
       "      <th>kategori</th>\n",
       "      <th>berita</th>\n",
       "    </tr>\n",
       "  </thead>\n",
       "  <tbody>\n",
       "    <tr>\n",
       "      <th>0</th>\n",
       "      <td>valid;</td>\n",
       "      <td>Gunung Agung erupsi untuk pertama kali pada 2...</td>\n",
       "    </tr>\n",
       "    <tr>\n",
       "      <th>1</th>\n",
       "      <td>valid;</td>\n",
       "      <td>Jakarta CNN Indonesia -- Menteri BUMN Erick T...</td>\n",
       "    </tr>\n",
       "    <tr>\n",
       "      <th>2</th>\n",
       "      <td>valid;</td>\n",
       "      <td>Dosen Fakultas Kedokteran Hewan IPB Yusuf Ridw...</td>\n",
       "    </tr>\n",
       "    <tr>\n",
       "      <th>3</th>\n",
       "      <td>valid;</td>\n",
       "      <td>Jakarta - Dua anggota TNI Serda N dan Serda DA...</td>\n",
       "    </tr>\n",
       "    <tr>\n",
       "      <th>4</th>\n",
       "      <td>valid;</td>\n",
       "      <td>Akui Tembak Jatuh Pesawat Ukraina Iran Tuai Ge...</td>\n",
       "    </tr>\n",
       "  </tbody>\n",
       "</table>\n",
       "</div>"
      ],
      "text/plain": [
       "  kategori                                             berita\n",
       "0   valid;   Gunung Agung erupsi untuk pertama kali pada 2...\n",
       "1   valid;   Jakarta CNN Indonesia -- Menteri BUMN Erick T...\n",
       "2   valid;  Dosen Fakultas Kedokteran Hewan IPB Yusuf Ridw...\n",
       "3   valid;  Jakarta - Dua anggota TNI Serda N dan Serda DA...\n",
       "4   valid;  Akui Tembak Jatuh Pesawat Ukraina Iran Tuai Ge..."
      ]
     },
     "execution_count": 3,
     "metadata": {},
     "output_type": "execute_result"
    }
   ],
   "source": [
    "data.head()"
   ]
  },
  {
   "cell_type": "code",
   "execution_count": 4,
   "metadata": {},
   "outputs": [
    {
     "name": "stdout",
     "output_type": "stream",
     "text": [
      "Index(['kategori', 'berita'], dtype='object')\n"
     ]
    }
   ],
   "source": [
    "print(data.columns)\n"
   ]
  },
  {
   "cell_type": "code",
   "execution_count": 5,
   "metadata": {
    "colab": {
     "base_uri": "https://localhost:8080/"
    },
    "id": "k0E2o2PxJf8y",
    "outputId": "7bd92f72-6ff3-4964-ac94-2ff646ae25fb"
   },
   "outputs": [
    {
     "name": "stdout",
     "output_type": "stream",
     "text": [
      "['valid;' '\\nvalid;' 'valid; ' 'hoax;']\n"
     ]
    }
   ],
   "source": [
    "print(data['kategori'].unique())"
   ]
  },
  {
   "cell_type": "code",
   "execution_count": 6,
   "metadata": {
    "id": "Kl7m61jMJTaF"
   },
   "outputs": [],
   "source": [
    "# Membersihkan data dengan menghapus whitespace dan karakter tidak perlu\n",
    "data['kategori'] = data['kategori'].str.strip()        # Menghapus whitespace di awal dan akhir\n",
    "data['kategori'] = data['kategori'].str.replace(';', '', regex=False)  # Menghapus tanda semicolon"
   ]
  },
  {
   "cell_type": "code",
   "execution_count": 7,
   "metadata": {
    "colab": {
     "base_uri": "https://localhost:8080/"
    },
    "id": "sIMlJvFdJngU",
    "outputId": "0eeeac1b-b9b1-4160-8ce4-ca64a6ec1406"
   },
   "outputs": [
    {
     "name": "stdout",
     "output_type": "stream",
     "text": [
      "['valid' 'hoax']\n"
     ]
    }
   ],
   "source": [
    "print(data['kategori'].unique())"
   ]
  },
  {
   "cell_type": "code",
   "execution_count": 8,
   "metadata": {},
   "outputs": [
    {
     "name": "stdout",
     "output_type": "stream",
     "text": [
      "Number of hoax samples: 507\n",
      "Number of valid samples: 507\n"
     ]
    }
   ],
   "source": [
    "label_counts = data['kategori'].value_counts()\n",
    "\n",
    "print(\"Number of hoax samples:\", label_counts.get('hoax', 0))\n",
    "print(\"Number of valid samples:\", label_counts.get('valid', 0))"
   ]
  },
  {
   "cell_type": "code",
   "execution_count": 9,
   "metadata": {},
   "outputs": [],
   "source": [
    "data['kategori_enc'] = data['kategori'].map({'valid': 0, 'hoax': 1})"
   ]
  },
  {
   "cell_type": "code",
   "execution_count": 12,
   "metadata": {},
   "outputs": [
    {
     "data": {
      "text/html": [
       "<div>\n",
       "<style scoped>\n",
       "    .dataframe tbody tr th:only-of-type {\n",
       "        vertical-align: middle;\n",
       "    }\n",
       "\n",
       "    .dataframe tbody tr th {\n",
       "        vertical-align: top;\n",
       "    }\n",
       "\n",
       "    .dataframe thead th {\n",
       "        text-align: right;\n",
       "    }\n",
       "</style>\n",
       "<table border=\"1\" class=\"dataframe\">\n",
       "  <thead>\n",
       "    <tr style=\"text-align: right;\">\n",
       "      <th></th>\n",
       "      <th>kategori</th>\n",
       "      <th>berita</th>\n",
       "      <th>kategori_enc</th>\n",
       "    </tr>\n",
       "  </thead>\n",
       "  <tbody>\n",
       "    <tr>\n",
       "      <th>0</th>\n",
       "      <td>valid</td>\n",
       "      <td>Gunung Agung erupsi untuk pertama kali pada 2...</td>\n",
       "      <td>0</td>\n",
       "    </tr>\n",
       "    <tr>\n",
       "      <th>1</th>\n",
       "      <td>valid</td>\n",
       "      <td>Jakarta CNN Indonesia -- Menteri BUMN Erick T...</td>\n",
       "      <td>0</td>\n",
       "    </tr>\n",
       "    <tr>\n",
       "      <th>2</th>\n",
       "      <td>valid</td>\n",
       "      <td>Dosen Fakultas Kedokteran Hewan IPB Yusuf Ridw...</td>\n",
       "      <td>0</td>\n",
       "    </tr>\n",
       "    <tr>\n",
       "      <th>3</th>\n",
       "      <td>valid</td>\n",
       "      <td>Jakarta - Dua anggota TNI Serda N dan Serda DA...</td>\n",
       "      <td>0</td>\n",
       "    </tr>\n",
       "    <tr>\n",
       "      <th>4</th>\n",
       "      <td>valid</td>\n",
       "      <td>Akui Tembak Jatuh Pesawat Ukraina Iran Tuai Ge...</td>\n",
       "      <td>0</td>\n",
       "    </tr>\n",
       "  </tbody>\n",
       "</table>\n",
       "</div>"
      ],
      "text/plain": [
       "  kategori                                             berita  kategori_enc\n",
       "0    valid   Gunung Agung erupsi untuk pertama kali pada 2...             0\n",
       "1    valid   Jakarta CNN Indonesia -- Menteri BUMN Erick T...             0\n",
       "2    valid  Dosen Fakultas Kedokteran Hewan IPB Yusuf Ridw...             0\n",
       "3    valid  Jakarta - Dua anggota TNI Serda N dan Serda DA...             0\n",
       "4    valid  Akui Tembak Jatuh Pesawat Ukraina Iran Tuai Ge...             0"
      ]
     },
     "execution_count": 12,
     "metadata": {},
     "output_type": "execute_result"
    }
   ],
   "source": [
    "data.head()"
   ]
  },
  {
   "cell_type": "code",
   "execution_count": 11,
   "metadata": {
    "id": "qFmGT2c2IiaL"
   },
   "outputs": [],
   "source": [
    "x = data.drop('kategori_enc',axis=1)\n",
    "y = data['kategori_enc']"
   ]
  },
  {
   "cell_type": "markdown",
   "metadata": {
    "id": "alaz6thzrGXW"
   },
   "source": [
    "Data Pre-processing and One Hot Represenatation"
   ]
  },
  {
   "cell_type": "code",
   "execution_count": 24,
   "metadata": {},
   "outputs": [
    {
     "name": "stdout",
     "output_type": "stream",
     "text": [
      "Total unique words: 11878\n",
      "\n",
      "Top 20 most frequent words:\n",
      "politik: 1072\n",
      "partai: 631\n",
      "indonesia: 505\n",
      "orang: 498\n",
      "presiden: 420\n",
      "jakarta: 369\n",
      "negara: 357\n",
      "salah: 345\n",
      "pilih: 339\n",
      "perintah: 321\n",
      "jokowi: 290\n",
      "masyarakat: 289\n",
      "temu: 277\n",
      "milu: 277\n",
      "nama: 262\n",
      "ketua: 262\n",
      "milik: 261\n",
      "hasil: 260\n",
      "kait: 252\n",
      "kota: 247\n"
     ]
    }
   ],
   "source": [
    "from collections import Counter\n",
    "import re\n",
    "\n",
    "def preprocess_text(text):\n",
    "    text = text.lower()\n",
    "    text = re.sub(r'[^\\w\\s]', '', text)\n",
    "    words = text.split()\n",
    "    return words\n",
    "\n",
    "def analyze_word_frequency(file_path):\n",
    "    with open(file_path, 'r', encoding='utf-8') as file:\n",
    "        text = file.read()\n",
    "    \n",
    "    # Preprocess and count word frequencies\n",
    "    words = preprocess_text(text)\n",
    "    word_freq = Counter(words)\n",
    "    \n",
    "    # Sort frequencies in descending order\n",
    "    sorted_frequencies = sorted(word_freq.items(), key=lambda x: x[1], reverse=True)\n",
    "    \n",
    "    print(\"Total unique words:\", len(word_freq))\n",
    "    print(\"\\nTop 20 most frequent words:\")\n",
    "    for word, freq in sorted_frequencies[:20]:\n",
    "        print(f\"{word}: {freq}\")\n",
    "    \n",
    "    return word_freq, sorted_frequencies\n",
    "\n",
    "# Usage\n",
    "file_path = 'corpus2.txt'\n",
    "word_frequencies, sorted_freq = analyze_word_frequency(file_path)"
   ]
  },
  {
   "cell_type": "code",
   "execution_count": null,
   "metadata": {},
   "outputs": [],
   "source": [
    "# Read the corpus from the text file\n",
    "corpus = []\n",
    "with open('corpus2.txt', 'r', encoding='utf-8') as f:\n",
    "    corpus = [line.strip() for line in f.readlines()]\n"
   ]
  },
  {
   "cell_type": "code",
   "execution_count": 23,
   "metadata": {},
   "outputs": [
    {
     "name": "stdout",
     "output_type": "stream",
     "text": [
      "Panjang kalimat maksimum: 625\n",
      "Kalimat dengan panjang maksimum: liput com jakarta desah kokpit maskapai terbang lion air marak berita tanah air dunia sorot kutip news com au sabtu media australia tulis picu maskapai terbang murah besar indonesia lidi internal kopilot larang terbang tulis media negeri kanguru kutip nyata direktur lion air edward sirait nyata langkah cabut izin terbang kompensasi si kopilot aku cipta desah heboh kejut ulang muat media inggris daily mail situs berita tajuk artikel kait pilot banned from flying after offering divorced air hostess as compensation for a delay on a flight to bal media pakistan tribune pk artikel indonesian pilot grounded for offering hostess as compensation berita heboh lapor tumpang nama lambertus maengkom media pakistan beber pesawat lion air lepas landas lambat pulau jawa kopilot canda tawar pramugari janda tugas minta maaf keras suara situs singapura the straits times tinggal tulis desah kokpit lion air laman judul indonesia s lion air grounds pilot for offering flight attendant as compensation for delay media malaysia the star online tulis headline outrage over attendant offered for flight delay media asing selandia stuff co nz tajuk grounded pilot denies offering flight attendant to passenger eyewitneess news rengkuh ramai berita artikel judul pilot grounded for apparently offering hostess as compensation jakarta tumpang jt rute surabaya denpasar heran tingkah laku kru lion air jumpa terbang muncul malam sabtu november suara desah keras suara umum nilai janggal etis suara rupa desah umum layak tawar pramugari status janda tugas dengar ucap pramugari cantik tinggal suami gagal nikah pertama lambertus maenkom salah tumpang bincang liput com kamis tumpang akses microphone imbuh tingkah aneh kru lion air muncul pesawat lepas landas jadi ulang roda pesawat hasil darat bandara ngurah rai denpasar awak kabin pegumuman tumpang duduk tempat pesawat total henti pramugara pramugari arah tumpang ambil bagasi tunjuk tumpang tranasit umum transit suara kokpit langsung cekat timpal umum awak kabin transit kemane lambertus tiru suara keras suara kabin tumpang jt rute terbang surabaya denpasar terbang wib sabtu nobember kejut tatap mulut tumpang lion air heran nada keras suara dengar suara aneh desah desah speaker kabin jalan tulis lambertus laman bandara web id minggu november unggah wib suara desah jantung tumpang debar tumpang khawatir selamat jalan terima laku kru maskapai swasta nasional tarif rendah lambertus tumpang putus klarifikasi langsung pilot kopilot sampa ngurah rai denpasar daya pilot tanggung terbang tolak temu tumpang lambertus putus tulis kisah pahit nya laman bandara web id lambertus sepele pilot kopilot milik tanggung penuh jaga selamat tumpang salah tolok ukur disiplin kru tugas pesawat pilot disiplin bertanggungjawab nyawa nyawa orang bawa lambertus liput com rangkum jejak desah resah jantung tumpang dentum kronologi sabtu november wib pesawat nomor terbang jt jadwal lepas landas bandara juanda pesawat alami lambat terbang pemberitahuan rinci maskapai sebab lambat wib pesawat lepas landas terbang tumpang heran umum keras suara kokpit desah tawar pramugari janda tumpang sontak isi kursi tumpang kejut tatap delay jam sambut main main keluh lambertus wita roda pesawat darat mulus bandara ngurah rai pramugari umum tumpang suara kokpit timpal standar prosedur lion air take off landing momen krusial main nyawa tumpang tangan pilot lambertus nada tumpang geram tingkah laku pilot kopilot tunggu pesawat klarifikasi perihal lazim gagal jawab minggu november lambertus lampias jengkel maskapai tumpang malam tulis laman bandara web id rabu november lion air rampung lidi internal aku salah prosedur kopilot ban tawar janda pramugari tumpang hasil temu lion air langgar prosedur kopilot ucap selamat ulang salah awak kabin announcement tegas kopilot mabuk pengaruh narkoba berita sehat walafiat kuat saksi pilot in command awak kabin kait suara desah berita kopilot announcement napas kopilot sengal sengal bicara posisi mic bibir tarik nafas bicara dengar desah tun maskapai tarif rendah sanksi kopilot langgar prosedur announcement kait ucap ulang kopilot sanksi hukum terbang grounded direktur edward sirait terang tulis terima liput com\n",
      "Panjang maxlen yang direkomendasikan (95 persentil): 203\n"
     ]
    }
   ],
   "source": [
    "# Hitung panjang setiap kalimat\n",
    "sentence_lengths = [len(sentence.split()) for sentence in corpus]\n",
    "\n",
    "# Temukan panjang maksimum dan kalimat yang memiliki panjang maksimum tersebut\n",
    "max_length = max(sentence_lengths)\n",
    "max_length_index = sentence_lengths.index(max_length)\n",
    "longest_sentence = corpus[max_length_index]\n",
    "\n",
    "# Menghitung panjang setiap kalimat\n",
    "sentence_lengths = [len(sentence.split()) for sentence in corpus]\n",
    "\n",
    "# Menemukan panjang pada persentil ke-95\n",
    "maxlen_recommended = int(np.percentile(sentence_lengths, 95))\n",
    "\n",
    "print(\"Panjang kalimat maksimum:\", max_length)\n",
    "print(\"Kalimat dengan panjang maksimum:\", longest_sentence)\n",
    "print(\"Panjang maxlen yang direkomendasikan (95 persentil):\", maxlen_recommended)"
   ]
  },
  {
   "cell_type": "code",
   "execution_count": 15,
   "metadata": {
    "id": "CDziIFUcMiZC"
   },
   "outputs": [],
   "source": [
    "# We need to reset the indices as we have sampled our initial news dataset\n",
    "msg = x.copy()\n",
    "msg.reset_index(inplace=True)"
   ]
  },
  {
   "cell_type": "code",
   "execution_count": 16,
   "metadata": {
    "id": "3Y5MaaTjOR8V"
   },
   "outputs": [],
   "source": [
    "# import StemmerFactory class\n",
    "# create stemmer\n",
    "factory = StemmerFactory()\n",
    "stemmer = factory.create_stemmer()"
   ]
  },
  {
   "cell_type": "code",
   "execution_count": 20,
   "metadata": {
    "colab": {
     "base_uri": "https://localhost:8080/",
     "height": 356
    },
    "collapsed": true,
    "id": "AVDHu8U_MjRq",
    "outputId": "6cac16c6-14dc-4ed4-9812-304b3c1f32e8"
   },
   "outputs": [],
   "source": [
    "#Data pre-pocessing\n",
    "\n",
    "corpus=[]\n",
    "for i in range(0,len(msg)):\n",
    "    review= re.sub('[^a-zA-Z]',' ',msg['berita'][i])\n",
    "    review= review.lower()\n",
    "    review= review.split()\n",
    "\n",
    "    review= [stemmer.stem(word) for word in review if not word in stopwords.words('indonesian')]\n",
    "    review= ' '.join(review)\n",
    "    corpus.append(review)"
   ]
  },
  {
   "cell_type": "code",
   "execution_count": 25,
   "metadata": {},
   "outputs": [
    {
     "data": {
      "text/plain": [
       "1014"
      ]
     },
     "execution_count": 25,
     "metadata": {},
     "output_type": "execute_result"
    }
   ],
   "source": [
    "len(corpus)"
   ]
  },
  {
   "cell_type": "code",
   "execution_count": null,
   "metadata": {},
   "outputs": [
    {
     "name": "stdout",
     "output_type": "stream",
     "text": [
      "Jumlah kata dengan frekuensi < 5: 8660\n"
     ]
    }
   ],
   "source": [
    "from collections import Counter\n",
    "\n",
    "# Hitung frekuensi kemunculan setiap kata dalam corpus\n",
    "word_counts = Counter(\" \".join(corpus).split())\n",
    "\n",
    "# Tentukan ambang batas kata dengan frekuensi rendah (kurang dari 5 kali)\n",
    "threshold = 5\n",
    "low_freq_words = {word: count for word, count in word_counts.items() if count < threshold}\n",
    "\n",
    "print(f\"Jumlah kata dengan frekuensi < {threshold}: {len(low_freq_words)}\")\n"
   ]
  },
  {
   "cell_type": "code",
   "execution_count": 175,
   "metadata": {},
   "outputs": [],
   "source": [
    "#one-hot frepresentation\n",
    "voc_size = 5500\n",
    "one_hot_re = [one_hot(element,voc_size) for element in corpus]\n",
    "\n",
    "#using pad_sequences to make all the representations of fixed length\n",
    "sentence_length=203\n",
    "embedded_docs= pad_sequences(one_hot_re, padding='pre', maxlen=sentence_length)"
   ]
  },
  {
   "cell_type": "code",
   "execution_count": 166,
   "metadata": {
    "id": "ikM9G6WYQFa6"
   },
   "outputs": [],
   "source": [
    "# Tokenize the corpus\n",
    "tokenizer = Tokenizer(num_words=6500)  # Use the same vocab size as during training\n",
    "tokenizer.fit_on_texts(corpus)  # Fit tokenizer on the new corpus (could use the same tokenizer as before)\n",
    "sequences = tokenizer.texts_to_sequences(corpus)\n",
    "\n",
    "# Pad the sequences to ensure the same length as the training data\n",
    "sentence_length = 203  # Ensure this matches the training sentence length\n",
    "embedded_docs = pad_sequences(sequences, padding='pre', maxlen=sentence_length)"
   ]
  },
  {
   "cell_type": "markdown",
   "metadata": {
    "id": "iXQ2iCDnrK0X"
   },
   "source": [
    "Creating Model"
   ]
  },
  {
   "cell_type": "code",
   "execution_count": 176,
   "metadata": {
    "id": "MJBw9KasnUnt"
   },
   "outputs": [],
   "source": [
    "x_final = np.array(embedded_docs)\n",
    "y_final= np.array(y)"
   ]
  },
  {
   "cell_type": "code",
   "execution_count": 177,
   "metadata": {},
   "outputs": [],
   "source": [
    "# Set up k-fold cross-validation\n",
    "k = 5\n",
    "kf = KFold(n_splits=k, shuffle=True, random_state=42)"
   ]
  },
  {
   "cell_type": "markdown",
   "metadata": {},
   "source": [
    "### RNN"
   ]
  },
  {
   "cell_type": "code",
   "execution_count": 49,
   "metadata": {},
   "outputs": [],
   "source": [
    "def create_model(voc_size, embedding_vector_features, sentence_length):\n",
    "    inputs = tf.keras.Input(shape=(sentence_length,))\n",
    "    embedding_layer = Embedding(voc_size, embedding_vector_features)(inputs)\n",
    "    rnn_layer = SimpleRNN(32)(embedding_layer) \n",
    "    outputs = Dense(1, activation='sigmoid')(rnn_layer)\n",
    "    \n",
    "    model = Model(inputs=inputs, outputs=outputs)\n",
    "    model.compile(loss='binary_crossentropy', optimizer='adam', metrics=['accuracy'])\n",
    "    \n",
    "    return model"
   ]
  },
  {
   "cell_type": "code",
   "execution_count": 84,
   "metadata": {},
   "outputs": [
    {
     "name": "stdout",
     "output_type": "stream",
     "text": [
      "\u001b[1m7/7\u001b[0m \u001b[32m━━━━━━━━━━━━━━━━━━━━\u001b[0m\u001b[37m\u001b[0m \u001b[1m1s\u001b[0m 60ms/step\n",
      "\u001b[1m7/7\u001b[0m \u001b[32m━━━━━━━━━━━━━━━━━━━━\u001b[0m\u001b[37m\u001b[0m \u001b[1m1s\u001b[0m 49ms/step\n",
      "\u001b[1m7/7\u001b[0m \u001b[32m━━━━━━━━━━━━━━━━━━━━\u001b[0m\u001b[37m\u001b[0m \u001b[1m1s\u001b[0m 67ms/step\n",
      "\u001b[1m7/7\u001b[0m \u001b[32m━━━━━━━━━━━━━━━━━━━━\u001b[0m\u001b[37m\u001b[0m \u001b[1m1s\u001b[0m 46ms/step\n",
      "\u001b[1m7/7\u001b[0m \u001b[32m━━━━━━━━━━━━━━━━━━━━\u001b[0m\u001b[37m\u001b[0m \u001b[1m1s\u001b[0m 49ms/step\n",
      "Best Model Accuracy: 0.9507389162561576\n",
      "Best Model Precision: 0.9345794392523364\n",
      "Best Model Recall: 0.970873786407767\n",
      "Best Model F1-Score: 0.9523809523809523\n",
      "Best Model Validation Loss: [0.41908061504364014, 0.3513529300689697, 0.30064064264297485, 0.41932252049446106, 0.30479830503463745, 0.25229209661483765, 0.21917681396007538, 0.20514115691184998, 0.19605189561843872, 0.19223108887672424]\n",
      "Best Model Validation Accuracy: [0.8916256427764893, 0.866995096206665, 0.8817734122276306, 0.8374384045600891, 0.9162561297416687, 0.9211822748184204, 0.9458128213882446, 0.9507389068603516, 0.9507389068603516, 0.9507389068603516]\n"
     ]
    }
   ],
   "source": [
    "best_accuracy = 0 \n",
    "best_precision = 0 \n",
    "best_recall = 0  \n",
    "best_f1 = 0\n",
    "\n",
    "best_model = None \n",
    "\n",
    "best_val_loss = None  \n",
    "best_val_accuracy = None  \n",
    "\n",
    "for train_index, test_index in kf.split(x_final):\n",
    "    x_train, x_test = x_final[train_index], x_final[test_index]\n",
    "    y_train, y_test = y_final[train_index], y_final[test_index]\n",
    "    \n",
    "    # Create a new model for each fold\n",
    "    model = create_model(voc_size=6500, embedding_vector_features=100, sentence_length=203)\n",
    "    \n",
    "    # Set up the model checkpoint to save the best model during training\n",
    "    checkpoint = ModelCheckpoint('best_model.keras', save_best_only=True, monitor='val_loss', mode='min', verbose=0)\n",
    "    tensorboard_callback = TensorBoard(log_dir='./logs')\n",
    "\n",
    "    # Train the model on the current fold with validation data\n",
    "    history = model.fit(x_train, y_train, epochs=10, batch_size=64, verbose=0, validation_data=(x_test, y_test), callbacks=[checkpoint, tensorboard_callback])  \n",
    "    \n",
    "    # Load the best model based on validation loss\n",
    "    model = load_model('best_model.keras')\n",
    "\n",
    "    # Predict on the test set\n",
    "    y_pred = (model.predict(x_test) > 0.5).astype(\"int32\").flatten()\n",
    "    \n",
    "    # Calculate metrics\n",
    "    accuracy = accuracy_score(y_test, y_pred)\n",
    "    precision = precision_score(y_test, y_pred)\n",
    "    recall = recall_score(y_test, y_pred)\n",
    "    f1 = f1_score(y_test, y_pred)\n",
    "    \n",
    "    # Track the best model based on accuracy\n",
    "    if accuracy > best_accuracy:\n",
    "        best_accuracy = accuracy\n",
    "        best_precision = precision\n",
    "        best_recall = recall\n",
    "        best_f1 = f1\n",
    "\n",
    "        best_model = model\n",
    "        # Store the validation loss and accuracy for the best model\n",
    "        best_val_loss = history.history['val_loss']\n",
    "        best_val_accuracy = history.history['val_accuracy']\n",
    "    \n",
    "print(\"Best Model Accuracy:\", best_accuracy)\n",
    "print(\"Best Model Precision:\", best_precision)\n",
    "print(\"Best Model Recall:\", best_recall)\n",
    "print(\"Best Model F1-Score:\", best_f1)\n",
    "\n",
    "# After the K-fold cross-validation loop, print eval losses and accuracies for the best model\n",
    "print(\"Best Model Validation Loss:\", best_val_loss)\n",
    "print(\"Best Model Validation Accuracy:\", best_val_accuracy)\n",
    "\n",
    "# Optionally, save the best model\n",
    "best_model.save('t-100-6500-rnn.keras')\n"
   ]
  },
  {
   "cell_type": "code",
   "execution_count": 85,
   "metadata": {},
   "outputs": [],
   "source": [
    "# Load the best model\n",
    "best_model = load_model('t-100-6500-rnn.keras')"
   ]
  },
  {
   "cell_type": "code",
   "execution_count": 35,
   "metadata": {},
   "outputs": [
    {
     "data": {
      "text/html": [
       "<div>\n",
       "<style scoped>\n",
       "    .dataframe tbody tr th:only-of-type {\n",
       "        vertical-align: middle;\n",
       "    }\n",
       "\n",
       "    .dataframe tbody tr th {\n",
       "        vertical-align: top;\n",
       "    }\n",
       "\n",
       "    .dataframe thead th {\n",
       "        text-align: right;\n",
       "    }\n",
       "</style>\n",
       "<table border=\"1\" class=\"dataframe\">\n",
       "  <thead>\n",
       "    <tr style=\"text-align: right;\">\n",
       "      <th></th>\n",
       "      <th>berita</th>\n",
       "      <th>kategori</th>\n",
       "    </tr>\n",
       "  </thead>\n",
       "  <tbody>\n",
       "    <tr>\n",
       "      <th>0</th>\n",
       "      <td>Hakim Wahyu Iman Santoso Alami Kecelakaan Tung...</td>\n",
       "      <td>1</td>\n",
       "    </tr>\n",
       "    <tr>\n",
       "      <th>1</th>\n",
       "      <td>MEGAWATI DAN PUAN BERMAIN SLOT Nenek lampir pe...</td>\n",
       "      <td>1</td>\n",
       "    </tr>\n",
       "    <tr>\n",
       "      <th>2</th>\n",
       "      <td>JONATHAN LATUMAHINA SEORANG NASRANI DAN PENYUS...</td>\n",
       "      <td>1</td>\n",
       "    </tr>\n",
       "    <tr>\n",
       "      <th>3</th>\n",
       "      <td>PDI-P Diblacklist dari Peserta Pilpres, Tak Bi...</td>\n",
       "      <td>1</td>\n",
       "    </tr>\n",
       "    <tr>\n",
       "      <th>4</th>\n",
       "      <td>Presiden Joe Biden dan Volodymyr Zelenskyy Ber...</td>\n",
       "      <td>1</td>\n",
       "    </tr>\n",
       "  </tbody>\n",
       "</table>\n",
       "</div>"
      ],
      "text/plain": [
       "                                              berita  kategori\n",
       "0  Hakim Wahyu Iman Santoso Alami Kecelakaan Tung...         1\n",
       "1  MEGAWATI DAN PUAN BERMAIN SLOT Nenek lampir pe...         1\n",
       "2  JONATHAN LATUMAHINA SEORANG NASRANI DAN PENYUS...         1\n",
       "3  PDI-P Diblacklist dari Peserta Pilpres, Tak Bi...         1\n",
       "4  Presiden Joe Biden dan Volodymyr Zelenskyy Ber...         1"
      ]
     },
     "execution_count": 35,
     "metadata": {},
     "output_type": "execute_result"
    }
   ],
   "source": [
    "# Test the model with new data\n",
    "test = pd.read_excel('../test.xlsx', usecols=['kategori', 'berita'])\n",
    "\n",
    "test.head()"
   ]
  },
  {
   "cell_type": "code",
   "execution_count": 36,
   "metadata": {},
   "outputs": [],
   "source": [
    "# Encode the target labels (0 for valid, 1 for hoax)\n",
    "test['kategori_enc'] = test['kategori']"
   ]
  },
  {
   "cell_type": "code",
   "execution_count": 37,
   "metadata": {},
   "outputs": [],
   "source": [
    "# Read the corpus from the text file\n",
    "corpus_test = []\n",
    "with open('corpus_test.txt', 'r', encoding='utf-8') as f:\n",
    "    corpus_test = [line.strip() for line in f.readlines()]"
   ]
  },
  {
   "cell_type": "code",
   "execution_count": 86,
   "metadata": {},
   "outputs": [
    {
     "name": "stdout",
     "output_type": "stream",
     "text": [
      "\u001b[1m32/32\u001b[0m \u001b[32m━━━━━━━━━━━━━━━━━━━━\u001b[0m\u001b[37m\u001b[0m \u001b[1m1s\u001b[0m 19ms/step\n",
      "Encode with Tokenizer\n",
      "Accuracy on new data: 0.648\n",
      "Precision on new data: 0.6778846153846154\n",
      "Recall on new data: 0.564\n",
      "F1 Score on new data: 0.6157205240174672\n"
     ]
    }
   ],
   "source": [
    "# Tokenize the corpus\n",
    "tokenizer = Tokenizer(num_words=6500)  # Use the same vocab size as during training\n",
    "tokenizer.fit_on_texts(corpus_test)  # Fit tokenizer on the new corpus (could use the same tokenizer as before)\n",
    "sequences = tokenizer.texts_to_sequences(corpus_test)\n",
    "\n",
    "# Pad the sequences to ensure the same length as the training data\n",
    "sentence_length = 203  # Ensure this matches the training sentence length\n",
    "embedded_docs = pad_sequences(sequences, padding='pre', maxlen=sentence_length)\n",
    "\n",
    "# Get the true labels (if available) for evaluation\n",
    "new_y_final = test['kategori_enc'].values  # Assuming 'kategori' column contains labels (0 or 1)\n",
    "\n",
    "# Predict with the model\n",
    "new_predictions = (best_model.predict(embedded_docs) > 0.5).astype(\"int32\").flatten()\n",
    "\n",
    "new_accuracy = accuracy_score(new_y_final, new_predictions)\n",
    "new_precision = precision_score(new_y_final, new_predictions)\n",
    "new_recall = recall_score(new_y_final, new_predictions)\n",
    "new_f1 = f1_score(new_y_final, new_predictions)\n",
    "\n",
    "# Print the evaluation results\n",
    "print(f\"Encode with Tokenizer\")\n",
    "\n",
    "print(f\"Accuracy on new data: {new_accuracy}\")\n",
    "print(f\"Precision on new data: {new_precision}\")\n",
    "print(f\"Recall on new data: {new_recall}\")\n",
    "print(f\"F1 Score on new data: {new_f1}\")"
   ]
  },
  {
   "cell_type": "markdown",
   "metadata": {},
   "source": [
    "### LSTM"
   ]
  },
  {
   "cell_type": "code",
   "execution_count": 169,
   "metadata": {},
   "outputs": [
    {
     "name": "stdout",
     "output_type": "stream",
     "text": [
      "6500\n",
      "100\n",
      "203\n"
     ]
    }
   ],
   "source": [
    "embedding_vector_features = 100\n",
    "voc_size=6500\n",
    "print(voc_size)\n",
    "print(embedding_vector_features)\n",
    "print(sentence_length)"
   ]
  },
  {
   "cell_type": "code",
   "execution_count": 103,
   "metadata": {},
   "outputs": [],
   "source": [
    "def create_model(voc_size, embedding_vector_features, sentence_length):\n",
    "    inputs = tf.keras.Input(shape=(sentence_length,))\n",
    "    embedding_layer = Embedding(voc_size, embedding_vector_features)(inputs)\n",
    "    lstm_layer = LSTM(32)(embedding_layer)\n",
    "    outputs = Dense(1, activation='sigmoid')(lstm_layer)\n",
    "    \n",
    "    model = Model(inputs=inputs, outputs=outputs)\n",
    "    model.compile(loss='binary_crossentropy', optimizer='adam', metrics=['accuracy'])\n",
    "    \n",
    "    return model"
   ]
  },
  {
   "cell_type": "code",
   "execution_count": 170,
   "metadata": {},
   "outputs": [
    {
     "name": "stdout",
     "output_type": "stream",
     "text": [
      "\u001b[1m7/7\u001b[0m \u001b[32m━━━━━━━━━━━━━━━━━━━━\u001b[0m\u001b[37m\u001b[0m \u001b[1m1s\u001b[0m 51ms/step\n",
      "\u001b[1m7/7\u001b[0m \u001b[32m━━━━━━━━━━━━━━━━━━━━\u001b[0m\u001b[37m\u001b[0m \u001b[1m1s\u001b[0m 56ms/step\n",
      "\u001b[1m7/7\u001b[0m \u001b[32m━━━━━━━━━━━━━━━━━━━━\u001b[0m\u001b[37m\u001b[0m \u001b[1m1s\u001b[0m 67ms/step\n",
      "\u001b[1m7/7\u001b[0m \u001b[32m━━━━━━━━━━━━━━━━━━━━\u001b[0m\u001b[37m\u001b[0m \u001b[1m1s\u001b[0m 44ms/step\n",
      "\u001b[1m7/7\u001b[0m \u001b[32m━━━━━━━━━━━━━━━━━━━━\u001b[0m\u001b[37m\u001b[0m \u001b[1m1s\u001b[0m 44ms/step\n",
      "Best Model Accuracy: 0.9702970297029703\n",
      "Best Model Precision: 0.9789473684210527\n",
      "Best Model Recall: 0.9587628865979382\n",
      "Best Model F1-Score: 0.96875\n",
      "Best Model Validation Loss: [0.6356028914451599, 0.43773016333580017, 0.2691842019557953, 0.2006787210702896, 0.15540505945682526, 0.1496114581823349, 0.13880032300949097, 0.12946797907352448, 0.13094346225261688, 0.13469159603118896]\n",
      "Best Model Validation Accuracy: [0.896039605140686, 0.8762376308441162, 0.9257425665855408, 0.9405940771102905, 0.9603960514068604, 0.9554455280303955, 0.9603960514068604, 0.9702970385551453, 0.9653465151786804, 0.9603960514068604]\n"
     ]
    }
   ],
   "source": [
    "best_accuracy = 0 \n",
    "best_precision = 0 \n",
    "best_recall = 0  \n",
    "best_f1 = 0\n",
    "\n",
    "best_model = None \n",
    "\n",
    "best_val_loss = None  \n",
    "best_val_accuracy = None  \n",
    "\n",
    "for train_index, test_index in kf.split(x_final):\n",
    "    x_train, x_test = x_final[train_index], x_final[test_index]\n",
    "    y_train, y_test = y_final[train_index], y_final[test_index]\n",
    "    \n",
    "    # Create a new model for each fold\n",
    "    model = create_model(voc_size=6500, embedding_vector_features=100, sentence_length=203)\n",
    "    \n",
    "    # Set up the model checkpoint to save the best model during training\n",
    "    checkpoint = ModelCheckpoint('best_model.keras', save_best_only=True, monitor='val_loss', mode='min', verbose=0)\n",
    "    tensorboard_callback = TensorBoard(log_dir='./logs')\n",
    "\n",
    "    # Train the model on the current fold with validation data\n",
    "    history = model.fit(x_train, y_train, epochs=10, batch_size=64, verbose=0, validation_data=(x_test, y_test), callbacks=[checkpoint, tensorboard_callback])  \n",
    "    \n",
    "    # Load the best model based on validation loss\n",
    "    model = load_model('best_model.keras')\n",
    "\n",
    "    # Predict on the test set\n",
    "    y_pred = (model.predict(x_test) > 0.5).astype(\"int32\").flatten()\n",
    "    \n",
    "    # Calculate metrics\n",
    "    accuracy = accuracy_score(y_test, y_pred)\n",
    "    precision = precision_score(y_test, y_pred)\n",
    "    recall = recall_score(y_test, y_pred)\n",
    "    f1 = f1_score(y_test, y_pred)\n",
    "    \n",
    "    # Track the best model based on accuracy\n",
    "    if accuracy > best_accuracy:\n",
    "        best_accuracy = accuracy\n",
    "        best_precision = precision\n",
    "        best_recall = recall\n",
    "        best_f1 = f1\n",
    "\n",
    "        best_model = model\n",
    "        # Store the validation loss and accuracy for the best model\n",
    "        best_val_loss = history.history['val_loss']\n",
    "        best_val_accuracy = history.history['val_accuracy']\n",
    "    \n",
    "print(\"Best Model Accuracy:\", best_accuracy)\n",
    "print(\"Best Model Precision:\", best_precision)\n",
    "print(\"Best Model Recall:\", best_recall)\n",
    "print(\"Best Model F1-Score:\", best_f1)\n",
    "\n",
    "# After the K-fold cross-validation loop, print eval losses and accuracies for the best model\n",
    "print(\"Best Model Validation Loss:\", best_val_loss)\n",
    "print(\"Best Model Validation Accuracy:\", best_val_accuracy)\n",
    "\n",
    "# Optionally, save the best model\n",
    "best_model.save('t-100-6500-lstm.keras')\n"
   ]
  },
  {
   "cell_type": "code",
   "execution_count": 171,
   "metadata": {},
   "outputs": [],
   "source": [
    "# Load the best model\n",
    "best_model = load_model('t-100-6500-lstm.keras')"
   ]
  },
  {
   "cell_type": "code",
   "execution_count": 117,
   "metadata": {},
   "outputs": [
    {
     "data": {
      "text/html": [
       "<div>\n",
       "<style scoped>\n",
       "    .dataframe tbody tr th:only-of-type {\n",
       "        vertical-align: middle;\n",
       "    }\n",
       "\n",
       "    .dataframe tbody tr th {\n",
       "        vertical-align: top;\n",
       "    }\n",
       "\n",
       "    .dataframe thead th {\n",
       "        text-align: right;\n",
       "    }\n",
       "</style>\n",
       "<table border=\"1\" class=\"dataframe\">\n",
       "  <thead>\n",
       "    <tr style=\"text-align: right;\">\n",
       "      <th></th>\n",
       "      <th>berita</th>\n",
       "      <th>kategori</th>\n",
       "    </tr>\n",
       "  </thead>\n",
       "  <tbody>\n",
       "    <tr>\n",
       "      <th>0</th>\n",
       "      <td>Hakim Wahyu Iman Santoso Alami Kecelakaan Tung...</td>\n",
       "      <td>1</td>\n",
       "    </tr>\n",
       "    <tr>\n",
       "      <th>1</th>\n",
       "      <td>MEGAWATI DAN PUAN BERMAIN SLOT Nenek lampir pe...</td>\n",
       "      <td>1</td>\n",
       "    </tr>\n",
       "    <tr>\n",
       "      <th>2</th>\n",
       "      <td>JONATHAN LATUMAHINA SEORANG NASRANI DAN PENYUS...</td>\n",
       "      <td>1</td>\n",
       "    </tr>\n",
       "    <tr>\n",
       "      <th>3</th>\n",
       "      <td>PDI-P Diblacklist dari Peserta Pilpres, Tak Bi...</td>\n",
       "      <td>1</td>\n",
       "    </tr>\n",
       "    <tr>\n",
       "      <th>4</th>\n",
       "      <td>Presiden Joe Biden dan Volodymyr Zelenskyy Ber...</td>\n",
       "      <td>1</td>\n",
       "    </tr>\n",
       "  </tbody>\n",
       "</table>\n",
       "</div>"
      ],
      "text/plain": [
       "                                              berita  kategori\n",
       "0  Hakim Wahyu Iman Santoso Alami Kecelakaan Tung...         1\n",
       "1  MEGAWATI DAN PUAN BERMAIN SLOT Nenek lampir pe...         1\n",
       "2  JONATHAN LATUMAHINA SEORANG NASRANI DAN PENYUS...         1\n",
       "3  PDI-P Diblacklist dari Peserta Pilpres, Tak Bi...         1\n",
       "4  Presiden Joe Biden dan Volodymyr Zelenskyy Ber...         1"
      ]
     },
     "execution_count": 117,
     "metadata": {},
     "output_type": "execute_result"
    }
   ],
   "source": [
    "# Test the model with new data\n",
    "test = pd.read_excel('../test.xlsx', usecols=['kategori', 'berita'])\n",
    "\n",
    "test.head()"
   ]
  },
  {
   "cell_type": "code",
   "execution_count": 118,
   "metadata": {},
   "outputs": [
    {
     "name": "stdout",
     "output_type": "stream",
     "text": [
      "(1000, 2)\n",
      "[1 0]\n"
     ]
    }
   ],
   "source": [
    "print(test.shape)\n",
    "print(test['kategori'].unique())"
   ]
  },
  {
   "cell_type": "code",
   "execution_count": 93,
   "metadata": {},
   "outputs": [
    {
     "name": "stdout",
     "output_type": "stream",
     "text": [
      "Number of hoax samples: 500\n",
      "Number of valid samples: 500\n"
     ]
    }
   ],
   "source": [
    "# Count occurrences of each label in the 'kategori' column\n",
    "label_counts = test['kategori'].value_counts()\n",
    "\n",
    "# Display the counts for \"hoax\" and \"valid\" (adjust if labels are different)\n",
    "print(\"Number of hoax samples:\", label_counts.get(1, 0))\n",
    "print(\"Number of valid samples:\", label_counts.get(0, 0))"
   ]
  },
  {
   "cell_type": "code",
   "execution_count": 163,
   "metadata": {},
   "outputs": [],
   "source": [
    "# Define necessary preprocessing parameters\n",
    "voc_size = 5500           # Must match training\n",
    "sentence_length = 203   # Must match training"
   ]
  },
  {
   "cell_type": "code",
   "execution_count": 129,
   "metadata": {},
   "outputs": [],
   "source": [
    "# Encode the target labels (0 for valid, 1 for hoax)\n",
    "test['kategori_enc'] = test['kategori']"
   ]
  },
  {
   "cell_type": "code",
   "execution_count": 68,
   "metadata": {},
   "outputs": [],
   "source": [
    "# Initialize the Sastrawi stemmer\n",
    "factory = StemmerFactory()\n",
    "stemmer = factory.create_stemmer()\n",
    "\n",
    "# Preprocess text: cleaning, stemming, removing stopwords\n",
    "corpus_test = []\n",
    "for i in range(len(test)):\n",
    "    review = re.sub('[^a-zA-Z]', ' ', test['berita'][i])  # Remove non-letter characters\n",
    "    review = review.lower()\n",
    "    review = review.split()\n",
    "    review = [stemmer.stem(word) for word in review if word not in stopwords.words('indonesian')]\n",
    "    review = ' '.join(review)\n",
    "    corpus_test.append(review)"
   ]
  },
  {
   "cell_type": "code",
   "execution_count": 74,
   "metadata": {},
   "outputs": [
    {
     "name": "stdout",
     "output_type": "stream",
     "text": [
      "Corpus saved as 'corpus_test.txt'\n"
     ]
    }
   ],
   "source": [
    "# Save the `corpus` to a text file\n",
    "with open('corpus_test.txt', 'w') as file:\n",
    "    for sentence in corpus_test:\n",
    "        file.write(sentence + '\\n')\n",
    "\n",
    "print(\"Corpus saved as 'corpus_test.txt'\")"
   ]
  },
  {
   "cell_type": "code",
   "execution_count": 120,
   "metadata": {},
   "outputs": [
    {
     "data": {
      "text/plain": [
       "1000"
      ]
     },
     "execution_count": 120,
     "metadata": {},
     "output_type": "execute_result"
    }
   ],
   "source": [
    "len(corpus_test)"
   ]
  },
  {
   "cell_type": "code",
   "execution_count": 119,
   "metadata": {},
   "outputs": [],
   "source": [
    "# Read the corpus from the text file\n",
    "corpus_test = []\n",
    "with open('corpus_test.txt', 'r', encoding='utf-8') as f:\n",
    "    corpus_test = [line.strip() for line in f.readlines()]"
   ]
  },
  {
   "cell_type": "code",
   "execution_count": 164,
   "metadata": {},
   "outputs": [
    {
     "name": "stdout",
     "output_type": "stream",
     "text": [
      "5500\n",
      "203\n"
     ]
    }
   ],
   "source": [
    "print(voc_size)\n",
    "print(sentence_length)"
   ]
  },
  {
   "cell_type": "code",
   "execution_count": 142,
   "metadata": {},
   "outputs": [
    {
     "name": "stdout",
     "output_type": "stream",
     "text": [
      "\u001b[1m32/32\u001b[0m \u001b[32m━━━━━━━━━━━━━━━━━━━━\u001b[0m\u001b[37m\u001b[0m \u001b[1m1s\u001b[0m 20ms/step\n",
      "Accuracy on new data: 0.91\n",
      "Precision on new data: 0.91\n",
      "Recall on new data: 0.91\n",
      "F1 Score on new data: 0.91\n"
     ]
    }
   ],
   "source": [
    "# Convert text to sequences using one-hot encoding and pad the sequences\n",
    "one_hot_re = [one_hot(sentence, voc_size) for sentence in corpus_test]\n",
    "new_x_final = pad_sequences(one_hot_re, padding='pre', maxlen=sentence_length)\n",
    "\n",
    "# Get the true labels (if available) for evaluation\n",
    "new_y_final = test['kategori_enc'].values\n",
    "# Predict with the new data\n",
    "new_predictions = (best_model.predict(new_x_final) > 0.5).astype(\"int32\").flatten()\n",
    "\n",
    "# Evaluate the new predictions (if labels are available)\n",
    "from sklearn.metrics import accuracy_score, precision_score, recall_score, f1_score\n",
    "\n",
    "new_accuracy = accuracy_score(new_y_final, new_predictions)\n",
    "new_precision = precision_score(new_y_final, new_predictions)\n",
    "new_recall = recall_score(new_y_final, new_predictions)\n",
    "new_f1 = f1_score(new_y_final, new_predictions)\n",
    "\n",
    "# Print the evaluation results\n",
    "print(f\"Accuracy on new data: {new_accuracy}\")\n",
    "print(f\"Precision on new data: {new_precision}\")\n",
    "print(f\"Recall on new data: {new_recall}\")\n",
    "print(f\"F1 Score on new data: {new_f1}\")"
   ]
  },
  {
   "cell_type": "code",
   "execution_count": 172,
   "metadata": {},
   "outputs": [
    {
     "name": "stdout",
     "output_type": "stream",
     "text": [
      "\u001b[1m32/32\u001b[0m \u001b[32m━━━━━━━━━━━━━━━━━━━━\u001b[0m\u001b[37m\u001b[0m \u001b[1m1s\u001b[0m 21ms/step\n",
      "Accuracy on new data: 0.719\n",
      "Precision on new data: 0.7494305239179955\n",
      "Recall on new data: 0.658\n",
      "F1 Score on new data: 0.7007454739084132\n"
     ]
    }
   ],
   "source": [
    "# Tokenize the corpus\n",
    "tokenizer = Tokenizer(num_words=6500)  # Use the same vocab size as during training\n",
    "tokenizer.fit_on_texts(corpus_test)  # Fit tokenizer on the new corpus (could use the same tokenizer as before)\n",
    "sequences = tokenizer.texts_to_sequences(corpus_test)\n",
    "\n",
    "# Pad the sequences to ensure the same length as the training data\n",
    "sentence_length = 203  # Ensure this matches the training sentence length\n",
    "embedded_docs = pad_sequences(sequences, padding='pre', maxlen=sentence_length)\n",
    "\n",
    "# Get the true labels (if available) for evaluation\n",
    "new_y_final = test['kategori_enc'].values  # Assuming 'kategori' column contains labels (0 or 1)\n",
    "\n",
    "# Predict with the model\n",
    "new_predictions = (best_model.predict(embedded_docs) > 0.5).astype(\"int32\").flatten()\n",
    "\n",
    "# Evaluate the new predictions (if labels are available)\n",
    "from sklearn.metrics import accuracy_score, precision_score, recall_score, f1_score\n",
    "\n",
    "new_accuracy = accuracy_score(new_y_final, new_predictions)\n",
    "new_precision = precision_score(new_y_final, new_predictions)\n",
    "new_recall = recall_score(new_y_final, new_predictions)\n",
    "new_f1 = f1_score(new_y_final, new_predictions)\n",
    "\n",
    "# Print the evaluation results\n",
    "print(f\"Accuracy on new data: {new_accuracy}\")\n",
    "print(f\"Precision on new data: {new_precision}\")\n",
    "print(f\"Recall on new data: {new_recall}\")\n",
    "print(f\"F1 Score on new data: {new_f1}\")"
   ]
  },
  {
   "cell_type": "markdown",
   "metadata": {
    "id": "kVzVhxtJoZyV"
   },
   "source": [
    "### Using Dropout Layer"
   ]
  },
  {
   "cell_type": "code",
   "execution_count": 206,
   "metadata": {},
   "outputs": [
    {
     "name": "stdout",
     "output_type": "stream",
     "text": [
      "6500\n",
      "100\n"
     ]
    }
   ],
   "source": [
    "voc_size=6500\n",
    "embedding_vector_features=100\n",
    "\n",
    "print(voc_size)\n",
    "print(embedding_vector_features)"
   ]
  },
  {
   "cell_type": "code",
   "execution_count": 207,
   "metadata": {},
   "outputs": [],
   "source": [
    "#one-hot frepresentation\n",
    "\n",
    "one_hot_re = [one_hot(element,voc_size) for element in corpus]\n",
    "\n",
    "#using pad_sequences to make all the representations of fixed length\n",
    "sentence_length=203\n",
    "embedded_docs= pad_sequences(one_hot_re, padding='pre', maxlen=sentence_length)"
   ]
  },
  {
   "cell_type": "code",
   "execution_count": 220,
   "metadata": {},
   "outputs": [],
   "source": [
    "# Tokenize the corpus\n",
    "tokenizer = Tokenizer(num_words=6500)  # Use the same vocab size as during training\n",
    "tokenizer.fit_on_texts(corpus)  # Fit tokenizer on the new corpus (could use the same tokenizer as before)\n",
    "sequences = tokenizer.texts_to_sequences(corpus)\n",
    "\n",
    "# Pad the sequences to ensure the same length as the training data\n",
    "sentence_length = 203  # Ensure this matches the training sentence length\n",
    "embedded_docs = pad_sequences(sequences, padding='pre', maxlen=sentence_length)"
   ]
  },
  {
   "cell_type": "code",
   "execution_count": 221,
   "metadata": {},
   "outputs": [],
   "source": [
    "x_final = np.array(embedded_docs)\n",
    "y_final= np.array(y)"
   ]
  },
  {
   "cell_type": "code",
   "execution_count": 180,
   "metadata": {},
   "outputs": [],
   "source": [
    "def create_model(voc_size, embedding_vector_features, sentence_length):\n",
    "    inputs = tf.keras.Input(shape=(sentence_length,))\n",
    "    embedding_layer = Embedding(voc_size, embedding_vector_features)(inputs)\n",
    "    dropout_layer_1 = Dropout(0.2)(embedding_layer)\n",
    "\n",
    "    lstm_layer = LSTM(32)(dropout_layer_1)\n",
    "    dropout_layer_2 = Dropout(0.2)(lstm_layer)\n",
    "\n",
    "    outputs = Dense(1, activation='sigmoid')(dropout_layer_2)\n",
    "    \n",
    "    model = Model(inputs=inputs, outputs=outputs)\n",
    "    model.compile(loss='binary_crossentropy', optimizer='adam', metrics=['accuracy'])\n",
    "    \n",
    "    return model"
   ]
  },
  {
   "cell_type": "code",
   "execution_count": 225,
   "metadata": {},
   "outputs": [
    {
     "name": "stdout",
     "output_type": "stream",
     "text": [
      "\u001b[1m7/7\u001b[0m \u001b[32m━━━━━━━━━━━━━━━━━━━━\u001b[0m\u001b[37m\u001b[0m \u001b[1m2s\u001b[0m 294ms/step\n",
      "\u001b[1m7/7\u001b[0m \u001b[32m━━━━━━━━━━━━━━━━━━━━\u001b[0m\u001b[37m\u001b[0m \u001b[1m1s\u001b[0m 69ms/step\n",
      "\u001b[1m7/7\u001b[0m \u001b[32m━━━━━━━━━━━━━━━━━━━━\u001b[0m\u001b[37m\u001b[0m \u001b[1m1s\u001b[0m 83ms/step\n",
      "\u001b[1m7/7\u001b[0m \u001b[32m━━━━━━━━━━━━━━━━━━━━\u001b[0m\u001b[37m\u001b[0m \u001b[1m1s\u001b[0m 104ms/step\n",
      "\u001b[1m7/7\u001b[0m \u001b[32m━━━━━━━━━━━━━━━━━━━━\u001b[0m\u001b[37m\u001b[0m \u001b[1m1s\u001b[0m 101ms/step\n",
      "Best Model Accuracy: 0.9702970297029703\n",
      "Best Model Precision: 0.989247311827957\n",
      "Best Model Recall: 0.9484536082474226\n",
      "Best Model F1-Score: 0.968421052631579\n",
      "Best Model Validation Loss: [0.6517898440361023, 0.48777469992637634, 0.29363057017326355, 0.18749037384986877, 0.15375757217407227, 0.14658133685588837, 0.13308806717395782, 0.15168888866901398, 0.15970005095005035, 0.16943763196468353]\n",
      "Best Model Validation Accuracy: [0.7970296740531921, 0.7920792102813721, 0.9257425665855408, 0.9504950642585754, 0.9554455280303955, 0.9653465151786804, 0.9702970385551453, 0.9554455280303955, 0.9455445408821106, 0.9455445408821106]\n"
     ]
    }
   ],
   "source": [
    "best_accuracy = 0 \n",
    "best_precision = 0 \n",
    "best_recall = 0  \n",
    "best_f1 = 0\n",
    "\n",
    "best_model = None \n",
    "\n",
    "best_val_loss = None  \n",
    "best_val_accuracy = None  \n",
    "\n",
    "for train_index, test_index in kf.split(x_final):\n",
    "    x_train, x_test = x_final[train_index], x_final[test_index]\n",
    "    y_train, y_test = y_final[train_index], y_final[test_index]\n",
    "    \n",
    "    # Create a new model for each fold\n",
    "    model = create_model(voc_size=6500, embedding_vector_features=100, sentence_length=203)\n",
    "    \n",
    "    # Set up the model checkpoint to save the best model during training\n",
    "    checkpoint = ModelCheckpoint('best_model.keras', save_best_only=True, monitor='val_loss', mode='min', verbose=0)\n",
    "    tensorboard_callback = TensorBoard(log_dir='./logs')\n",
    "\n",
    "    # Train the model on the current fold with validation data\n",
    "    history = model.fit(x_train, y_train, epochs=10, batch_size=64, verbose=0, validation_data=(x_test, y_test), callbacks=[checkpoint, tensorboard_callback])  \n",
    "    \n",
    "    # Load the best model based on validation loss\n",
    "    model = load_model('best_model.keras')\n",
    "\n",
    "    # Predict on the test set\n",
    "    y_pred = (model.predict(x_test) > 0.5).astype(\"int32\").flatten()\n",
    "    \n",
    "    # Calculate metrics\n",
    "    accuracy = accuracy_score(y_test, y_pred)\n",
    "    precision = precision_score(y_test, y_pred)\n",
    "    recall = recall_score(y_test, y_pred)\n",
    "    f1 = f1_score(y_test, y_pred)\n",
    "    \n",
    "    # Track the best model based on accuracy\n",
    "    if accuracy > best_accuracy:\n",
    "        best_accuracy = accuracy\n",
    "        best_precision = precision\n",
    "        best_recall = recall\n",
    "        best_f1 = f1\n",
    "\n",
    "        best_model = model\n",
    "        # Store the validation loss and accuracy for the best model\n",
    "        best_val_loss = history.history['val_loss']\n",
    "        best_val_accuracy = history.history['val_accuracy']\n",
    "    \n",
    "print(\"Best Model Accuracy:\", best_accuracy)\n",
    "print(\"Best Model Precision:\", best_precision)\n",
    "print(\"Best Model Recall:\", best_recall)\n",
    "print(\"Best Model F1-Score:\", best_f1)\n",
    "\n",
    "# After the K-fold cross-validation loop, print eval losses and accuracies for the best model\n",
    "print(\"Best Model Validation Loss:\", best_val_loss)\n",
    "print(\"Best Model Validation Accuracy:\", best_val_accuracy)\n",
    "\n",
    "# Optionally, save the best model\n",
    "best_model.save('t-100-6500-lstm_w_d.keras')\n"
   ]
  },
  {
   "cell_type": "code",
   "execution_count": 226,
   "metadata": {},
   "outputs": [],
   "source": [
    "# Load the best model 828387478\n",
    "best_model = load_model('t-100-6500-lstm_w_d.keras')"
   ]
  },
  {
   "cell_type": "code",
   "execution_count": 191,
   "metadata": {},
   "outputs": [
    {
     "data": {
      "text/plain": [
       "1000"
      ]
     },
     "execution_count": 191,
     "metadata": {},
     "output_type": "execute_result"
    }
   ],
   "source": [
    "# Read the corpus from the text file\n",
    "corpus_test = []\n",
    "with open('corpus_test.txt', 'r', encoding='utf-8') as f:\n",
    "    corpus_test = [line.strip() for line in f.readlines()]\n",
    "\n",
    "len(corpus_test)"
   ]
  },
  {
   "cell_type": "code",
   "execution_count": 192,
   "metadata": {},
   "outputs": [
    {
     "data": {
      "text/plain": [
       "1000"
      ]
     },
     "execution_count": 192,
     "metadata": {},
     "output_type": "execute_result"
    }
   ],
   "source": [
    "len(corpus_test)"
   ]
  },
  {
   "cell_type": "code",
   "execution_count": 259,
   "metadata": {},
   "outputs": [
    {
     "name": "stdout",
     "output_type": "stream",
     "text": [
      "5500\n"
     ]
    }
   ],
   "source": [
    "print(voc_size)"
   ]
  },
  {
   "cell_type": "code",
   "execution_count": 227,
   "metadata": {},
   "outputs": [
    {
     "name": "stdout",
     "output_type": "stream",
     "text": [
      "\u001b[1m32/32\u001b[0m \u001b[32m━━━━━━━━━━━━━━━━━━━━\u001b[0m\u001b[37m\u001b[0m \u001b[1m2s\u001b[0m 43ms/step\n",
      "Accuracy on new data: 0.727\n",
      "Precision on new data: 0.7830423940149626\n",
      "Recall on new data: 0.628\n",
      "F1 Score on new data: 0.6970033296337403\n"
     ]
    }
   ],
   "source": [
    "# Tokenize the corpus\n",
    "tokenizer = Tokenizer(num_words=6500)  # Use the same vocab size as during training\n",
    "tokenizer.fit_on_texts(corpus_test)  # Fit tokenizer on the new corpus (could use the same tokenizer as before)\n",
    "sequences = tokenizer.texts_to_sequences(corpus_test)\n",
    "\n",
    "# Pad the sequences to ensure the same length as the training data\n",
    "sentence_length = 203  # Ensure this matches the training sentence length\n",
    "embedded_docs = pad_sequences(sequences, padding='pre', maxlen=sentence_length)\n",
    "\n",
    "# Get the true labels (if available) for evaluation\n",
    "new_y_final = test['kategori_enc'].values  # Assuming 'kategori' column contains labels (0 or 1)\n",
    "\n",
    "# Predict with the model\n",
    "new_predictions = (best_model.predict(embedded_docs) > 0.5).astype(\"int32\").flatten()\n",
    "\n",
    "# Evaluate the new predictions (if labels are available)\n",
    "from sklearn.metrics import accuracy_score, precision_score, recall_score, f1_score\n",
    "\n",
    "new_accuracy = accuracy_score(new_y_final, new_predictions)\n",
    "new_precision = precision_score(new_y_final, new_predictions)\n",
    "new_recall = recall_score(new_y_final, new_predictions)\n",
    "new_f1 = f1_score(new_y_final, new_predictions)\n",
    "\n",
    "# Print the evaluation results\n",
    "print(f\"Accuracy on new data: {new_accuracy}\")\n",
    "print(f\"Precision on new data: {new_precision}\")\n",
    "print(f\"Recall on new data: {new_recall}\")\n",
    "print(f\"F1 Score on new data: {new_f1}\")"
   ]
  },
  {
   "cell_type": "code",
   "execution_count": 211,
   "metadata": {},
   "outputs": [
    {
     "name": "stdout",
     "output_type": "stream",
     "text": [
      "\u001b[1m32/32\u001b[0m \u001b[32m━━━━━━━━━━━━━━━━━━━━\u001b[0m\u001b[37m\u001b[0m \u001b[1m1s\u001b[0m 26ms/step\n",
      "Accuracy on new data: 0.919\n",
      "Precision on new data: 0.9165009940357853\n",
      "Recall on new data: 0.922\n",
      "F1 Score on new data: 0.9192422731804586\n"
     ]
    }
   ],
   "source": [
    "voc_size=6500\n",
    "sentence_length=203\n",
    "\n",
    "# Convert text to sequences using one-hot encoding and pad the sequences\n",
    "one_hot_re = [one_hot(sentence, voc_size) for sentence in corpus_test]\n",
    "new_x_final = pad_sequences(one_hot_re, padding='pre', maxlen=sentence_length)\n",
    "\n",
    "# Prepare the labels\n",
    "new_y_final = test['kategori_enc'].values\n",
    "\n",
    "# Predict with the new data\n",
    "new_predictions = (best_model.predict(new_x_final) > 0.5).astype(\"int32\").flatten()\n",
    "\n",
    "# Evaluate the new predictions\n",
    "new_accuracy = accuracy_score(new_y_final, new_predictions)\n",
    "new_precision = precision_score(new_y_final, new_predictions)\n",
    "new_recall = recall_score(new_y_final, new_predictions)\n",
    "new_f1 = f1_score(new_y_final, new_predictions)\n",
    "\n",
    "print(f\"Accuracy on new data: {new_accuracy}\")\n",
    "print(f\"Precision on new data: {new_precision}\")\n",
    "print(f\"Recall on new data: {new_recall}\")\n",
    "print(f\"F1 Score on new data: {new_f1}\")"
   ]
  },
  {
   "cell_type": "markdown",
   "metadata": {
    "id": "oQ04kvYaqxSl"
   },
   "source": [
    "### Bidirectional LSTM"
   ]
  },
  {
   "cell_type": "code",
   "execution_count": 248,
   "metadata": {},
   "outputs": [],
   "source": [
    "# Read the corpus from the text file\n",
    "corpus = []\n",
    "with open('corpus.txt', 'r', encoding='utf-8') as f:\n",
    "    corpus = [line.strip() for line in f.readlines()]"
   ]
  },
  {
   "cell_type": "code",
   "execution_count": 242,
   "metadata": {},
   "outputs": [
    {
     "name": "stdout",
     "output_type": "stream",
     "text": [
      "1014\n",
      "6500\n",
      "203\n"
     ]
    }
   ],
   "source": [
    "voc_size = 6500\n",
    "embedding_vector_features = 50\n",
    "print(len(corpus))\n",
    "print(voc_size)\n",
    "print(sentence_length)"
   ]
  },
  {
   "cell_type": "code",
   "execution_count": 243,
   "metadata": {},
   "outputs": [],
   "source": [
    "#one-hot frepresentation\n",
    "\n",
    "one_hot_re = [one_hot(element,voc_size) for element in corpus]\n",
    "\n",
    "#using pad_sequences to make all the representations of fixed length\n",
    "sentence_length=203\n",
    "embedded_docs= pad_sequences(one_hot_re, padding='pre', maxlen=sentence_length)"
   ]
  },
  {
   "cell_type": "code",
   "execution_count": 259,
   "metadata": {},
   "outputs": [],
   "source": [
    "# Tokenize the corpus\n",
    "tokenizer = Tokenizer(num_words=6500)  # Use the same vocab size as during training\n",
    "tokenizer.fit_on_texts(corpus)  # Fit tokenizer on the new corpus (could use the same tokenizer as before)\n",
    "sequences = tokenizer.texts_to_sequences(corpus)\n",
    "\n",
    "# Pad the sequences to ensure the same length as the training data\n",
    "sentence_length = 203  # Ensure this matches the training sentence length\n",
    "embedded_docs = pad_sequences(sequences, padding='pre', maxlen=sentence_length)"
   ]
  },
  {
   "cell_type": "code",
   "execution_count": 260,
   "metadata": {},
   "outputs": [],
   "source": [
    "x_final = np.array(embedded_docs)\n",
    "y_final= np.array(y)"
   ]
  },
  {
   "cell_type": "code",
   "execution_count": 235,
   "metadata": {},
   "outputs": [],
   "source": [
    "def create_model(voc_size, embedding_vector_features, sentence_length):\n",
    "    inputs = tf.keras.Input(shape=(sentence_length,))\n",
    "    embedding_layer = Embedding(voc_size, embedding_vector_features)(inputs)\n",
    "    bi_layer = Bidirectional(LSTM(32))(embedding_layer)\n",
    "\n",
    "    outputs = Dense(1, activation='sigmoid')(bi_layer)\n",
    "    \n",
    "    model = Model(inputs=inputs, outputs=outputs)\n",
    "    model.compile(loss='binary_crossentropy', optimizer='adam', metrics=['accuracy'])\n",
    "    \n",
    "    return model"
   ]
  },
  {
   "cell_type": "code",
   "execution_count": 264,
   "metadata": {},
   "outputs": [
    {
     "name": "stdout",
     "output_type": "stream",
     "text": [
      "\u001b[1m7/7\u001b[0m \u001b[32m━━━━━━━━━━━━━━━━━━━━\u001b[0m\u001b[37m\u001b[0m \u001b[1m1s\u001b[0m 57ms/step\n",
      "\u001b[1m7/7\u001b[0m \u001b[32m━━━━━━━━━━━━━━━━━━━━\u001b[0m\u001b[37m\u001b[0m \u001b[1m1s\u001b[0m 52ms/step\n",
      "\u001b[1m7/7\u001b[0m \u001b[32m━━━━━━━━━━━━━━━━━━━━\u001b[0m\u001b[37m\u001b[0m \u001b[1m1s\u001b[0m 60ms/step\n",
      "\u001b[1m7/7\u001b[0m \u001b[32m━━━━━━━━━━━━━━━━━━━━\u001b[0m\u001b[37m\u001b[0m \u001b[1m1s\u001b[0m 50ms/step\n",
      "\u001b[1m7/7\u001b[0m \u001b[32m━━━━━━━━━━━━━━━━━━━━\u001b[0m\u001b[37m\u001b[0m \u001b[1m1s\u001b[0m 51ms/step\n",
      "Best Model Accuracy: 0.9653465346534653\n",
      "Best Model Precision: 0.96875\n",
      "Best Model Recall: 0.9587628865979382\n",
      "Best Model F1-Score: 0.9637305699481865\n",
      "Best Model Validation Loss: [0.6695782542228699, 0.5239341259002686, 0.3358866274356842, 0.20280885696411133, 0.16426613926887512, 0.17846271395683289, 0.13157925009727478, 0.15787553787231445, 0.34640681743621826, 0.24027611315250397]\n",
      "Best Model Validation Accuracy: [0.5346534848213196, 0.8118811845779419, 0.896039605140686, 0.9554455280303955, 0.9702970385551453, 0.9554455280303955, 0.9653465151786804, 0.9653465151786804, 0.8861386179924011, 0.9207921028137207]\n"
     ]
    }
   ],
   "source": [
    "best_accuracy = 0 \n",
    "best_precision = 0 \n",
    "best_recall = 0  \n",
    "best_f1 = 0\n",
    "\n",
    "best_model = None \n",
    "\n",
    "best_val_loss = None  \n",
    "best_val_accuracy = None  \n",
    "\n",
    "for train_index, test_index in kf.split(x_final):\n",
    "    x_train, x_test = x_final[train_index], x_final[test_index]\n",
    "    y_train, y_test = y_final[train_index], y_final[test_index]\n",
    "    \n",
    "    # Create a new model for each fold\n",
    "    model = create_model(voc_size=6500, embedding_vector_features=100, sentence_length=203)\n",
    "    \n",
    "    # Set up the model checkpoint to save the best model during training\n",
    "    checkpoint = ModelCheckpoint('best_model.keras', save_best_only=True, monitor='val_loss', mode='min', verbose=0)\n",
    "    tensorboard_callback = TensorBoard(log_dir='./logs')\n",
    "\n",
    "    # Train the model on the current fold with validation data\n",
    "    history = model.fit(x_train, y_train, epochs=10, batch_size=64, verbose=0, validation_data=(x_test, y_test), callbacks=[checkpoint, tensorboard_callback])  \n",
    "    \n",
    "    # Load the best model based on validation loss\n",
    "    model = load_model('best_model.keras')\n",
    "\n",
    "    # Predict on the test set\n",
    "    y_pred = (model.predict(x_test) > 0.5).astype(\"int32\").flatten()\n",
    "    \n",
    "    # Calculate metrics\n",
    "    accuracy = accuracy_score(y_test, y_pred)\n",
    "    precision = precision_score(y_test, y_pred)\n",
    "    recall = recall_score(y_test, y_pred)\n",
    "    f1 = f1_score(y_test, y_pred)\n",
    "    \n",
    "    # Track the best model based on accuracy\n",
    "    if accuracy > best_accuracy:\n",
    "        best_accuracy = accuracy\n",
    "        best_precision = precision\n",
    "        best_recall = recall\n",
    "        best_f1 = f1\n",
    "\n",
    "        best_model = model\n",
    "        # Store the validation loss and accuracy for the best model\n",
    "        best_val_loss = history.history['val_loss']\n",
    "        best_val_accuracy = history.history['val_accuracy']\n",
    "    \n",
    "print(\"Best Model Accuracy:\", best_accuracy)\n",
    "print(\"Best Model Precision:\", best_precision)\n",
    "print(\"Best Model Recall:\", best_recall)\n",
    "print(\"Best Model F1-Score:\", best_f1)\n",
    "\n",
    "# After the K-fold cross-validation loop, print eval losses and accuracies for the best model\n",
    "print(\"Best Model Validation Loss:\", best_val_loss)\n",
    "print(\"Best Model Validation Accuracy:\", best_val_accuracy)\n",
    "\n",
    "# Optionally, save the best model\n",
    "best_model.save('t-100-6500-bilstm.keras')"
   ]
  },
  {
   "cell_type": "code",
   "execution_count": 265,
   "metadata": {},
   "outputs": [],
   "source": [
    "best_model = load_model('t-100-6500-bilstm.keras')"
   ]
  },
  {
   "cell_type": "code",
   "execution_count": 23,
   "metadata": {},
   "outputs": [],
   "source": [
    "# Read the corpus from the text file\n",
    "corpus_test = []\n",
    "with open('corpus_test.txt', 'r', encoding='utf-8') as f:\n",
    "    corpus_test = [line.strip() for line in f.readlines()]"
   ]
  },
  {
   "cell_type": "code",
   "execution_count": 96,
   "metadata": {},
   "outputs": [
    {
     "data": {
      "text/plain": [
       "1000"
      ]
     },
     "execution_count": 96,
     "metadata": {},
     "output_type": "execute_result"
    }
   ],
   "source": [
    "len(corpus_test)"
   ]
  },
  {
   "cell_type": "code",
   "execution_count": 266,
   "metadata": {},
   "outputs": [
    {
     "name": "stdout",
     "output_type": "stream",
     "text": [
      "\u001b[1m32/32\u001b[0m \u001b[32m━━━━━━━━━━━━━━━━━━━━\u001b[0m\u001b[37m\u001b[0m \u001b[1m1s\u001b[0m 24ms/step\n",
      "Accuracy on new data: 0.749\n",
      "Precision on new data: 0.782312925170068\n",
      "Recall on new data: 0.69\n",
      "F1 Score on new data: 0.7332624867162593\n"
     ]
    }
   ],
   "source": [
    "# Tokenize the corpus\n",
    "tokenizer = Tokenizer(num_words=6500)  # Use the same vocab size as during training\n",
    "tokenizer.fit_on_texts(corpus_test)  # Fit tokenizer on the new corpus (could use the same tokenizer as before)\n",
    "sequences = tokenizer.texts_to_sequences(corpus_test)\n",
    "\n",
    "# Pad the sequences to ensure the same length as the training data\n",
    "sentence_length = 203  # Ensure this matches the training sentence length\n",
    "embedded_docs = pad_sequences(sequences, padding='pre', maxlen=sentence_length)\n",
    "\n",
    "# Get the true labels (if available) for evaluation\n",
    "new_y_final = test['kategori_enc'].values  # Assuming 'kategori' column contains labels (0 or 1)\n",
    "\n",
    "# Predict with the model\n",
    "new_predictions = (best_model.predict(embedded_docs) > 0.5).astype(\"int32\").flatten()\n",
    "\n",
    "# Evaluate the new predictions (if labels are available)\n",
    "from sklearn.metrics import accuracy_score, precision_score, recall_score, f1_score\n",
    "\n",
    "new_accuracy = accuracy_score(new_y_final, new_predictions)\n",
    "new_precision = precision_score(new_y_final, new_predictions)\n",
    "new_recall = recall_score(new_y_final, new_predictions)\n",
    "new_f1 = f1_score(new_y_final, new_predictions)\n",
    "\n",
    "# Print the evaluation results\n",
    "print(f\"Accuracy on new data: {new_accuracy}\")\n",
    "print(f\"Precision on new data: {new_precision}\")\n",
    "print(f\"Recall on new data: {new_recall}\")\n",
    "print(f\"F1 Score on new data: {new_f1}\")"
   ]
  },
  {
   "cell_type": "code",
   "execution_count": 250,
   "metadata": {},
   "outputs": [
    {
     "name": "stdout",
     "output_type": "stream",
     "text": [
      "\u001b[1m32/32\u001b[0m \u001b[32m━━━━━━━━━━━━━━━━━━━━\u001b[0m\u001b[37m\u001b[0m \u001b[1m1s\u001b[0m 24ms/step\n",
      "Accuracy on new data: 0.902\n",
      "Precision on new data: 0.9222689075630253\n",
      "Recall on new data: 0.878\n",
      "F1 Score on new data: 0.8995901639344263\n"
     ]
    }
   ],
   "source": [
    "voc_size=6500\n",
    "sentence_length=203\n",
    "\n",
    "# Convert text to sequences using one-hot encoding and pad the sequences\n",
    "one_hot_re = [one_hot(sentence, voc_size) for sentence in corpus_test]\n",
    "new_x_final = pad_sequences(one_hot_re, padding='pre', maxlen=sentence_length)\n",
    "\n",
    "# Prepare the labels\n",
    "new_y_final = test['kategori_enc'].values\n",
    "\n",
    "# Predict with the new data\n",
    "new_predictions = (best_model.predict(new_x_final) > 0.5).astype(\"int32\").flatten()\n",
    "\n",
    "# Evaluate the new predictions\n",
    "new_accuracy = accuracy_score(new_y_final, new_predictions)\n",
    "new_precision = precision_score(new_y_final, new_predictions)\n",
    "new_recall = recall_score(new_y_final, new_predictions)\n",
    "new_f1 = f1_score(new_y_final, new_predictions)\n",
    "\n",
    "print(f\"Accuracy on new data: {new_accuracy}\")\n",
    "print(f\"Precision on new data: {new_precision}\")\n",
    "print(f\"Recall on new data: {new_recall}\")\n",
    "print(f\"F1 Score on new data: {new_f1}\")"
   ]
  },
  {
   "cell_type": "markdown",
   "metadata": {},
   "source": [
    "### Transformer"
   ]
  },
  {
   "cell_type": "code",
   "execution_count": 87,
   "metadata": {},
   "outputs": [
    {
     "name": "stderr",
     "output_type": "stream",
     "text": [
      "c:\\Users\\Lenovo\\Downloads\\Code Thesis\\env\\Lib\\site-packages\\tqdm\\auto.py:21: TqdmWarning: IProgress not found. Please update jupyter and ipywidgets. See https://ipywidgets.readthedocs.io/en/stable/user_install.html\n",
      "  from .autonotebook import tqdm as notebook_tqdm\n",
      "Token indices sequence length is longer than the specified maximum sequence length for this model (1424 > 512). Running this sequence through the model will result in indexing errors\n"
     ]
    },
    {
     "name": "stdout",
     "output_type": "stream",
     "text": [
      "Nilai panjang teks pada persentil ke-95: 944.849999999999\n"
     ]
    }
   ],
   "source": [
    "import pandas as pd\n",
    "import numpy as np\n",
    "from transformers import RobertaTokenizer\n",
    "\n",
    "# Load dataset\n",
    "data = pd.read_excel('dataBerita.xlsx', usecols=['kategori', 'berita'])\n",
    "\n",
    "# Membersihkan data dengan menghapus whitespace dan karakter tidak perlu\n",
    "data['kategori'] = data['kategori'].str.strip()        # Menghapus whitespace di awal dan akhir\n",
    "data['kategori'] = data['kategori'].str.replace(';', '', regex=False)  # Menghapus tanda semicolon\n",
    "data['kategori_enc'] = data['kategori'].map({'valid': 0, 'hoax': 1})\n",
    "texts = data['berita'].tolist()\n",
    "\n",
    "# Initialize RoBERTa tokenizer\n",
    "tokenizer = RobertaTokenizer.from_pretrained('roberta-base')\n",
    "\n",
    "# Tokenisasi dan hitung panjang masing-masing teks\n",
    "lengths = [len(tokenizer.encode(text)) for text in texts]\n",
    "\n",
    "# Hitung panjang pada persentil ke-95\n",
    "percentile_95 = np.percentile(lengths, 95)\n",
    "\n",
    "# Menampilkan hasil\n",
    "print(f\"Nilai panjang teks pada persentil ke-95: {percentile_95}\")\n"
   ]
  },
  {
   "cell_type": "code",
   "execution_count": 88,
   "metadata": {},
   "outputs": [
    {
     "name": "stdout",
     "output_type": "stream",
     "text": [
      "WARNING:tensorflow:From c:\\Users\\Lenovo\\Downloads\\Code Thesis\\env\\Lib\\site-packages\\tf_keras\\src\\losses.py:2976: The name tf.losses.sparse_softmax_cross_entropy is deprecated. Please use tf.compat.v1.losses.sparse_softmax_cross_entropy instead.\n",
      "\n"
     ]
    }
   ],
   "source": [
    "import pandas as pd\n",
    "import torch\n",
    "from transformers import RobertaTokenizer, RobertaForSequenceClassification, Trainer, TrainingArguments\n",
    "from torch.utils.data import Dataset\n",
    "\n",
    "# Load dataset\n",
    "data = pd.read_excel('dataBerita.xlsx', usecols=['kategori', 'berita'])\n",
    "# Membersihkan data dengan menghapus whitespace dan karakter tidak perlu\n",
    "data['kategori'] = data['kategori'].str.strip()        # Menghapus whitespace di awal dan akhir\n",
    "data['kategori'] = data['kategori'].str.replace(';', '', regex=False)  # Menghapus tanda semicolon\n"
   ]
  },
  {
   "cell_type": "code",
   "execution_count": 89,
   "metadata": {},
   "outputs": [],
   "source": [
    "data['kategori_enc'] = data['kategori'].map({'valid': 0, 'hoax': 1})\n",
    "texts = data['berita'].tolist()\n",
    "labels = data['kategori_enc'].tolist()\n",
    "\n",
    "# Initialize RoBERTa tokenizer\n",
    "tokenizer = RobertaTokenizer.from_pretrained('roberta-base')"
   ]
  },
  {
   "cell_type": "code",
   "execution_count": 90,
   "metadata": {},
   "outputs": [
    {
     "data": {
      "text/plain": [
       "array([0, 1])"
      ]
     },
     "execution_count": 90,
     "metadata": {},
     "output_type": "execute_result"
    }
   ],
   "source": [
    "data['kategori_enc'].unique()"
   ]
  },
  {
   "cell_type": "code",
   "execution_count": 91,
   "metadata": {},
   "outputs": [
    {
     "name": "stdout",
     "output_type": "stream",
     "text": [
      "Number of hoax samples: 507\n",
      "Number of valid samples: 507\n"
     ]
    }
   ],
   "source": [
    "label_counts = data['kategori'].value_counts()\n",
    "\n",
    "print(\"Number of hoax samples:\", label_counts.get('hoax', 0))\n",
    "print(\"Number of valid samples:\", label_counts.get('valid', 0))"
   ]
  },
  {
   "cell_type": "code",
   "execution_count": 92,
   "metadata": {},
   "outputs": [],
   "source": [
    "# Custom Dataset class for RoBERTa\n",
    "class CustomDataset(Dataset):\n",
    "    def __init__(self, texts, labels, tokenizer, max_length=216):\n",
    "        self.texts = texts\n",
    "        self.labels = labels\n",
    "        self.tokenizer = tokenizer\n",
    "        self.max_length = max_length\n",
    "    \n",
    "    def __len__(self):\n",
    "        return len(self.texts)\n",
    "    \n",
    "    def __getitem__(self, idx):\n",
    "        encoding = self.tokenizer(\n",
    "            self.texts[idx],\n",
    "            truncation=True,\n",
    "            padding='max_length',\n",
    "            max_length=self.max_length,\n",
    "            return_tensors='pt'\n",
    "        )\n",
    "        item = {key: val.squeeze() for key, val in encoding.items()}\n",
    "        item['labels'] = torch.tensor(self.labels[idx], dtype=torch.long)\n",
    "        return item"
   ]
  },
  {
   "cell_type": "code",
   "execution_count": 94,
   "metadata": {},
   "outputs": [],
   "source": [
    "from sklearn.metrics import accuracy_score, precision_score, recall_score, f1_score\n",
    "from sklearn.model_selection import KFold\n",
    "# Define K-fold cross-validation\n",
    "kf = KFold(n_splits=5, shuffle=True, random_state=42)\n",
    "best_model = None\n",
    "best_fold = -1\n",
    "accuracy_scores, precision_scores, recall_scores, f1_scores = [], [], [], []"
   ]
  },
  {
   "cell_type": "code",
   "execution_count": 95,
   "metadata": {},
   "outputs": [
    {
     "name": "stdout",
     "output_type": "stream",
     "text": [
      "Training fold 1...\n"
     ]
    },
    {
     "name": "stderr",
     "output_type": "stream",
     "text": [
      "Some weights of RobertaForSequenceClassification were not initialized from the model checkpoint at distilroberta-base and are newly initialized: ['classifier.dense.bias', 'classifier.dense.weight', 'classifier.out_proj.bias', 'classifier.out_proj.weight']\n",
      "You should probably TRAIN this model on a down-stream task to be able to use it for predictions and inference.\n",
      "c:\\Users\\Lenovo\\Downloads\\Code Thesis\\env\\Lib\\site-packages\\transformers\\training_args.py:1568: FutureWarning: `evaluation_strategy` is deprecated and will be removed in version 4.46 of 🤗 Transformers. Use `eval_strategy` instead\n",
      "  warnings.warn(\n",
      "C:\\Users\\Lenovo\\AppData\\Local\\Temp\\ipykernel_10032\\3140443517.py:43: FutureWarning: `tokenizer` is deprecated and will be removed in version 5.0.0 for `Trainer.__init__`. Use `processing_class` instead.\n",
      "  trainer = Trainer(\n",
      "                                                   \n",
      " 10%|█         | 102/1020 [05:45<40:47,  2.67s/it]"
     ]
    },
    {
     "name": "stdout",
     "output_type": "stream",
     "text": [
      "{'eval_loss': 0.2568579614162445, 'eval_accuracy': 0.9211822660098522, 'eval_precision': 0.967741935483871, 'eval_recall': 0.8737864077669902, 'eval_f1': 0.9183673469387755, 'eval_runtime': 22.2728, 'eval_samples_per_second': 9.114, 'eval_steps_per_second': 1.167, 'epoch': 1.0}\n"
     ]
    },
    {
     "name": "stderr",
     "output_type": "stream",
     "text": [
      "                                                    \n",
      " 20%|██        | 204/1020 [11:37<36:39,  2.70s/it]"
     ]
    },
    {
     "name": "stdout",
     "output_type": "stream",
     "text": [
      "{'eval_loss': 0.14208431541919708, 'eval_accuracy': 0.9655172413793104, 'eval_precision': 0.9528301886792453, 'eval_recall': 0.9805825242718447, 'eval_f1': 0.9665071770334929, 'eval_runtime': 22.0945, 'eval_samples_per_second': 9.188, 'eval_steps_per_second': 1.177, 'epoch': 2.0}\n"
     ]
    },
    {
     "name": "stderr",
     "output_type": "stream",
     "text": [
      "                                                    \n",
      " 30%|███       | 306/1020 [17:25<31:39,  2.66s/it]"
     ]
    },
    {
     "name": "stdout",
     "output_type": "stream",
     "text": [
      "{'eval_loss': 0.16715845465660095, 'eval_accuracy': 0.9704433497536946, 'eval_precision': 0.970873786407767, 'eval_recall': 0.970873786407767, 'eval_f1': 0.970873786407767, 'eval_runtime': 22.7804, 'eval_samples_per_second': 8.911, 'eval_steps_per_second': 1.141, 'epoch': 3.0}\n"
     ]
    },
    {
     "name": "stderr",
     "output_type": "stream",
     "text": [
      "                                                    \n",
      " 40%|████      | 408/1020 [23:12<27:20,  2.68s/it]"
     ]
    },
    {
     "name": "stdout",
     "output_type": "stream",
     "text": [
      "{'eval_loss': 0.07900776714086533, 'eval_accuracy': 0.9802955665024631, 'eval_precision': 0.9805825242718447, 'eval_recall': 0.9805825242718447, 'eval_f1': 0.9805825242718447, 'eval_runtime': 22.4044, 'eval_samples_per_second': 9.061, 'eval_steps_per_second': 1.16, 'epoch': 4.0}\n"
     ]
    },
    {
     "name": "stderr",
     "output_type": "stream",
     "text": [
      " 49%|████▉     | 500/1020 [28:07<27:36,  3.18s/it]  "
     ]
    },
    {
     "name": "stdout",
     "output_type": "stream",
     "text": [
      "{'loss': 0.1818, 'grad_norm': 0.009881209582090378, 'learning_rate': 2.5490196078431373e-05, 'epoch': 4.9}\n"
     ]
    },
    {
     "name": "stderr",
     "output_type": "stream",
     "text": [
      "                                                  \n",
      " 50%|█████     | 510/1020 [29:03<23:48,  2.80s/it]"
     ]
    },
    {
     "name": "stdout",
     "output_type": "stream",
     "text": [
      "{'eval_loss': 0.1718345582485199, 'eval_accuracy': 0.9753694581280788, 'eval_precision': 1.0, 'eval_recall': 0.9514563106796117, 'eval_f1': 0.9751243781094527, 'eval_runtime': 22.5159, 'eval_samples_per_second': 9.016, 'eval_steps_per_second': 1.155, 'epoch': 5.0}\n"
     ]
    },
    {
     "name": "stderr",
     "output_type": "stream",
     "text": [
      "                                                    \n",
      " 60%|██████    | 612/1020 [35:08<19:19,  2.84s/it]"
     ]
    },
    {
     "name": "stdout",
     "output_type": "stream",
     "text": [
      "{'eval_loss': 0.06587190926074982, 'eval_accuracy': 0.9901477832512315, 'eval_precision': 1.0, 'eval_recall': 0.9805825242718447, 'eval_f1': 0.9901960784313726, 'eval_runtime': 22.3389, 'eval_samples_per_second': 9.087, 'eval_steps_per_second': 1.164, 'epoch': 6.0}\n"
     ]
    },
    {
     "name": "stderr",
     "output_type": "stream",
     "text": [
      "                                                    \n",
      " 70%|███████   | 714/1020 [41:09<13:47,  2.71s/it]"
     ]
    },
    {
     "name": "stdout",
     "output_type": "stream",
     "text": [
      "{'eval_loss': 0.07284264266490936, 'eval_accuracy': 0.9852216748768473, 'eval_precision': 0.9901960784313726, 'eval_recall': 0.9805825242718447, 'eval_f1': 0.9853658536585366, 'eval_runtime': 22.0933, 'eval_samples_per_second': 9.188, 'eval_steps_per_second': 1.177, 'epoch': 7.0}\n"
     ]
    },
    {
     "name": "stderr",
     "output_type": "stream",
     "text": [
      "                                                  \n",
      " 80%|████████  | 816/1020 [47:15<09:39,  2.84s/it]"
     ]
    },
    {
     "name": "stdout",
     "output_type": "stream",
     "text": [
      "{'eval_loss': 0.08038230240345001, 'eval_accuracy': 0.9802955665024631, 'eval_precision': 0.9805825242718447, 'eval_recall': 0.9805825242718447, 'eval_f1': 0.9805825242718447, 'eval_runtime': 22.1512, 'eval_samples_per_second': 9.164, 'eval_steps_per_second': 1.174, 'epoch': 8.0}\n"
     ]
    },
    {
     "name": "stderr",
     "output_type": "stream",
     "text": [
      "                                                  \n",
      " 90%|█████████ | 918/1020 [53:15<04:35,  2.70s/it]"
     ]
    },
    {
     "name": "stdout",
     "output_type": "stream",
     "text": [
      "{'eval_loss': 0.10634855180978775, 'eval_accuracy': 0.9802955665024631, 'eval_precision': 0.9805825242718447, 'eval_recall': 0.9805825242718447, 'eval_f1': 0.9805825242718447, 'eval_runtime': 21.5703, 'eval_samples_per_second': 9.411, 'eval_steps_per_second': 1.205, 'epoch': 9.0}\n"
     ]
    },
    {
     "name": "stderr",
     "output_type": "stream",
     "text": [
      " 98%|█████████▊| 1000/1020 [57:48<01:07,  3.38s/it]"
     ]
    },
    {
     "name": "stdout",
     "output_type": "stream",
     "text": [
      "{'loss': 0.0132, 'grad_norm': 0.009946553036570549, 'learning_rate': 9.80392156862745e-07, 'epoch': 9.8}\n"
     ]
    },
    {
     "name": "stderr",
     "output_type": "stream",
     "text": [
      "                                                   \n",
      "100%|██████████| 1020/1020 [59:15<00:00,  3.49s/it]\n"
     ]
    },
    {
     "name": "stdout",
     "output_type": "stream",
     "text": [
      "{'eval_loss': 0.10549121350049973, 'eval_accuracy': 0.9802955665024631, 'eval_precision': 0.9805825242718447, 'eval_recall': 0.9805825242718447, 'eval_f1': 0.9805825242718447, 'eval_runtime': 21.4962, 'eval_samples_per_second': 9.444, 'eval_steps_per_second': 1.21, 'epoch': 10.0}\n",
      "{'train_runtime': 3555.924, 'train_samples_per_second': 2.281, 'train_steps_per_second': 0.287, 'train_loss': 0.09560388245062866, 'epoch': 10.0}\n"
     ]
    },
    {
     "name": "stderr",
     "output_type": "stream",
     "text": [
      "100%|██████████| 26/26 [00:21<00:00,  1.24it/s]\n"
     ]
    },
    {
     "name": "stdout",
     "output_type": "stream",
     "text": [
      "Training fold 2...\n"
     ]
    },
    {
     "name": "stderr",
     "output_type": "stream",
     "text": [
      "Some weights of RobertaForSequenceClassification were not initialized from the model checkpoint at distilroberta-base and are newly initialized: ['classifier.dense.bias', 'classifier.dense.weight', 'classifier.out_proj.bias', 'classifier.out_proj.weight']\n",
      "You should probably TRAIN this model on a down-stream task to be able to use it for predictions and inference.\n",
      "c:\\Users\\Lenovo\\Downloads\\Code Thesis\\env\\Lib\\site-packages\\transformers\\training_args.py:1568: FutureWarning: `evaluation_strategy` is deprecated and will be removed in version 4.46 of 🤗 Transformers. Use `eval_strategy` instead\n",
      "  warnings.warn(\n",
      "C:\\Users\\Lenovo\\AppData\\Local\\Temp\\ipykernel_10032\\3140443517.py:43: FutureWarning: `tokenizer` is deprecated and will be removed in version 5.0.0 for `Trainer.__init__`. Use `processing_class` instead.\n",
      "  trainer = Trainer(\n",
      " 10%|█         | 102/1020 [05:34<42:17,  2.76s/it]\n",
      " 10%|█         | 102/1020 [05:56<42:17,  2.76s/it]"
     ]
    },
    {
     "name": "stdout",
     "output_type": "stream",
     "text": [
      "{'eval_loss': 0.21501658856868744, 'eval_accuracy': 0.9458128078817734, 'eval_precision': 0.9285714285714286, 'eval_recall': 0.9578947368421052, 'eval_f1': 0.9430051813471503, 'eval_runtime': 21.8448, 'eval_samples_per_second': 9.293, 'eval_steps_per_second': 1.19, 'epoch': 1.0}\n"
     ]
    },
    {
     "name": "stderr",
     "output_type": "stream",
     "text": [
      " 20%|██        | 204/1020 [11:30<36:28,  2.68s/it]  \n",
      " 20%|██        | 204/1020 [11:52<36:28,  2.68s/it]"
     ]
    },
    {
     "name": "stdout",
     "output_type": "stream",
     "text": [
      "{'eval_loss': 0.22537001967430115, 'eval_accuracy': 0.9458128078817734, 'eval_precision': 0.9285714285714286, 'eval_recall': 0.9578947368421052, 'eval_f1': 0.9430051813471503, 'eval_runtime': 21.9186, 'eval_samples_per_second': 9.262, 'eval_steps_per_second': 1.186, 'epoch': 2.0}\n"
     ]
    },
    {
     "name": "stderr",
     "output_type": "stream",
     "text": [
      " 30%|███       | 306/1020 [17:26<32:30,  2.73s/it]  \n",
      " 30%|███       | 306/1020 [17:48<32:30,  2.73s/it]"
     ]
    },
    {
     "name": "stdout",
     "output_type": "stream",
     "text": [
      "{'eval_loss': 0.1941279023885727, 'eval_accuracy': 0.9458128078817734, 'eval_precision': 0.9666666666666667, 'eval_recall': 0.9157894736842105, 'eval_f1': 0.9405405405405406, 'eval_runtime': 21.5473, 'eval_samples_per_second': 9.421, 'eval_steps_per_second': 1.207, 'epoch': 3.0}\n"
     ]
    },
    {
     "name": "stderr",
     "output_type": "stream",
     "text": [
      " 40%|████      | 408/1020 [23:18<27:31,  2.70s/it]  \n",
      " 40%|████      | 408/1020 [23:40<27:31,  2.70s/it]"
     ]
    },
    {
     "name": "stdout",
     "output_type": "stream",
     "text": [
      "{'eval_loss': 0.2780507206916809, 'eval_accuracy': 0.9507389162561576, 'eval_precision': 0.9381443298969072, 'eval_recall': 0.9578947368421052, 'eval_f1': 0.9479166666666666, 'eval_runtime': 21.8191, 'eval_samples_per_second': 9.304, 'eval_steps_per_second': 1.192, 'epoch': 4.0}\n"
     ]
    },
    {
     "name": "stderr",
     "output_type": "stream",
     "text": [
      " 49%|████▉     | 500/1020 [28:47<28:45,  3.32s/it]  "
     ]
    },
    {
     "name": "stdout",
     "output_type": "stream",
     "text": [
      "{'loss': 0.1474, 'grad_norm': 0.03145629167556763, 'learning_rate': 2.5490196078431373e-05, 'epoch': 4.9}\n"
     ]
    },
    {
     "name": "stderr",
     "output_type": "stream",
     "text": [
      " 50%|█████     | 510/1020 [29:20<24:09,  2.84s/it]\n",
      " 50%|█████     | 510/1020 [29:42<24:09,  2.84s/it]"
     ]
    },
    {
     "name": "stdout",
     "output_type": "stream",
     "text": [
      "{'eval_loss': 0.3379236161708832, 'eval_accuracy': 0.9507389162561576, 'eval_precision': 0.9381443298969072, 'eval_recall': 0.9578947368421052, 'eval_f1': 0.9479166666666666, 'eval_runtime': 21.7509, 'eval_samples_per_second': 9.333, 'eval_steps_per_second': 1.195, 'epoch': 5.0}\n"
     ]
    },
    {
     "name": "stderr",
     "output_type": "stream",
     "text": [
      " 60%|██████    | 612/1020 [35:08<18:28,  2.72s/it]  \n",
      " 60%|██████    | 612/1020 [35:29<18:28,  2.72s/it]"
     ]
    },
    {
     "name": "stdout",
     "output_type": "stream",
     "text": [
      "{'eval_loss': 0.4088763892650604, 'eval_accuracy': 0.9507389162561576, 'eval_precision': 0.956989247311828, 'eval_recall': 0.9368421052631579, 'eval_f1': 0.9468085106382979, 'eval_runtime': 21.5618, 'eval_samples_per_second': 9.415, 'eval_steps_per_second': 1.206, 'epoch': 6.0}\n"
     ]
    },
    {
     "name": "stderr",
     "output_type": "stream",
     "text": [
      " 70%|███████   | 714/1020 [41:07<13:52,  2.72s/it]  \n",
      " 70%|███████   | 714/1020 [41:29<13:52,  2.72s/it]"
     ]
    },
    {
     "name": "stdout",
     "output_type": "stream",
     "text": [
      "{'eval_loss': 0.3960358500480652, 'eval_accuracy': 0.9507389162561576, 'eval_precision': 0.967032967032967, 'eval_recall': 0.9263157894736842, 'eval_f1': 0.946236559139785, 'eval_runtime': 21.7863, 'eval_samples_per_second': 9.318, 'eval_steps_per_second': 1.193, 'epoch': 7.0}\n"
     ]
    },
    {
     "name": "stderr",
     "output_type": "stream",
     "text": [
      " 80%|████████  | 816/1020 [47:06<09:19,  2.74s/it]\n",
      " 80%|████████  | 816/1020 [47:28<09:19,  2.74s/it]"
     ]
    },
    {
     "name": "stdout",
     "output_type": "stream",
     "text": [
      "{'eval_loss': 0.3858775496482849, 'eval_accuracy': 0.9507389162561576, 'eval_precision': 0.956989247311828, 'eval_recall': 0.9368421052631579, 'eval_f1': 0.9468085106382979, 'eval_runtime': 21.6051, 'eval_samples_per_second': 9.396, 'eval_steps_per_second': 1.203, 'epoch': 8.0}\n"
     ]
    },
    {
     "name": "stderr",
     "output_type": "stream",
     "text": [
      " 90%|█████████ | 918/1020 [53:05<04:36,  2.72s/it]\n",
      " 90%|█████████ | 918/1020 [53:27<04:36,  2.72s/it]"
     ]
    },
    {
     "name": "stdout",
     "output_type": "stream",
     "text": [
      "{'eval_loss': 0.3974909782409668, 'eval_accuracy': 0.9556650246305419, 'eval_precision': 0.967391304347826, 'eval_recall': 0.9368421052631579, 'eval_f1': 0.9518716577540107, 'eval_runtime': 21.889, 'eval_samples_per_second': 9.274, 'eval_steps_per_second': 1.188, 'epoch': 9.0}\n"
     ]
    },
    {
     "name": "stderr",
     "output_type": "stream",
     "text": [
      " 98%|█████████▊| 1000/1020 [57:57<01:07,  3.37s/it]"
     ]
    },
    {
     "name": "stdout",
     "output_type": "stream",
     "text": [
      "{'loss': 0.006, 'grad_norm': 0.0012571369297802448, 'learning_rate': 9.80392156862745e-07, 'epoch': 9.8}\n"
     ]
    },
    {
     "name": "stderr",
     "output_type": "stream",
     "text": [
      "100%|██████████| 1020/1020 [59:03<00:00,  2.65s/it]\n",
      "100%|██████████| 1020/1020 [59:28<00:00,  3.50s/it]\n"
     ]
    },
    {
     "name": "stdout",
     "output_type": "stream",
     "text": [
      "{'eval_loss': 0.3983173966407776, 'eval_accuracy': 0.9556650246305419, 'eval_precision': 0.967391304347826, 'eval_recall': 0.9368421052631579, 'eval_f1': 0.9518716577540107, 'eval_runtime': 20.4816, 'eval_samples_per_second': 9.911, 'eval_steps_per_second': 1.269, 'epoch': 10.0}\n",
      "{'train_runtime': 3568.7892, 'train_samples_per_second': 2.272, 'train_steps_per_second': 0.286, 'train_loss': 0.07517132427521717, 'epoch': 10.0}\n"
     ]
    },
    {
     "name": "stderr",
     "output_type": "stream",
     "text": [
      "100%|██████████| 26/26 [00:20<00:00,  1.24it/s]\n"
     ]
    },
    {
     "name": "stdout",
     "output_type": "stream",
     "text": [
      "Training fold 3...\n"
     ]
    },
    {
     "name": "stderr",
     "output_type": "stream",
     "text": [
      "Some weights of RobertaForSequenceClassification were not initialized from the model checkpoint at distilroberta-base and are newly initialized: ['classifier.dense.bias', 'classifier.dense.weight', 'classifier.out_proj.bias', 'classifier.out_proj.weight']\n",
      "You should probably TRAIN this model on a down-stream task to be able to use it for predictions and inference.\n",
      "c:\\Users\\Lenovo\\Downloads\\Code Thesis\\env\\Lib\\site-packages\\transformers\\training_args.py:1568: FutureWarning: `evaluation_strategy` is deprecated and will be removed in version 4.46 of 🤗 Transformers. Use `eval_strategy` instead\n",
      "  warnings.warn(\n",
      "C:\\Users\\Lenovo\\AppData\\Local\\Temp\\ipykernel_10032\\3140443517.py:43: FutureWarning: `tokenizer` is deprecated and will be removed in version 5.0.0 for `Trainer.__init__`. Use `processing_class` instead.\n",
      "  trainer = Trainer(\n",
      " 10%|█         | 102/1020 [05:35<40:58,  2.68s/it]\n",
      " 10%|█         | 102/1020 [05:57<40:58,  2.68s/it]"
     ]
    },
    {
     "name": "stdout",
     "output_type": "stream",
     "text": [
      "{'eval_loss': 0.21663902699947357, 'eval_accuracy': 0.9310344827586207, 'eval_precision': 0.9666666666666667, 'eval_recall': 0.8877551020408163, 'eval_f1': 0.925531914893617, 'eval_runtime': 21.718, 'eval_samples_per_second': 9.347, 'eval_steps_per_second': 1.197, 'epoch': 1.0}\n"
     ]
    },
    {
     "name": "stderr",
     "output_type": "stream",
     "text": [
      " 20%|██        | 204/1020 [11:30<36:33,  2.69s/it]  \n",
      " 20%|██        | 204/1020 [11:52<36:33,  2.69s/it]"
     ]
    },
    {
     "name": "stdout",
     "output_type": "stream",
     "text": [
      "{'eval_loss': 0.22021448612213135, 'eval_accuracy': 0.9458128078817734, 'eval_precision': 0.978021978021978, 'eval_recall': 0.9081632653061225, 'eval_f1': 0.9417989417989417, 'eval_runtime': 21.8388, 'eval_samples_per_second': 9.295, 'eval_steps_per_second': 1.191, 'epoch': 2.0}\n"
     ]
    },
    {
     "name": "stderr",
     "output_type": "stream",
     "text": [
      " 30%|███       | 306/1020 [17:20<31:30,  2.65s/it]  \n",
      " 30%|███       | 306/1020 [17:42<31:30,  2.65s/it]"
     ]
    },
    {
     "name": "stdout",
     "output_type": "stream",
     "text": [
      "{'eval_loss': 0.19722838699817657, 'eval_accuracy': 0.9605911330049262, 'eval_precision': 0.96875, 'eval_recall': 0.9489795918367347, 'eval_f1': 0.9587628865979382, 'eval_runtime': 21.6464, 'eval_samples_per_second': 9.378, 'eval_steps_per_second': 1.201, 'epoch': 3.0}\n"
     ]
    },
    {
     "name": "stderr",
     "output_type": "stream",
     "text": [
      " 40%|████      | 408/1020 [23:12<28:30,  2.80s/it]  \n",
      " 40%|████      | 408/1020 [23:33<28:30,  2.80s/it]"
     ]
    },
    {
     "name": "stdout",
     "output_type": "stream",
     "text": [
      "{'eval_loss': 0.2916131317615509, 'eval_accuracy': 0.9458128078817734, 'eval_precision': 0.9887640449438202, 'eval_recall': 0.8979591836734694, 'eval_f1': 0.9411764705882353, 'eval_runtime': 21.682, 'eval_samples_per_second': 9.363, 'eval_steps_per_second': 1.199, 'epoch': 4.0}\n"
     ]
    },
    {
     "name": "stderr",
     "output_type": "stream",
     "text": [
      " 49%|████▉     | 500/1020 [28:30<27:31,  3.18s/it]  "
     ]
    },
    {
     "name": "stdout",
     "output_type": "stream",
     "text": [
      "{'loss': 0.1446, 'grad_norm': 0.0014424180844798684, 'learning_rate': 2.5490196078431373e-05, 'epoch': 4.9}\n"
     ]
    },
    {
     "name": "stderr",
     "output_type": "stream",
     "text": [
      " 50%|█████     | 510/1020 [29:05<22:57,  2.70s/it]\n",
      " 50%|█████     | 510/1020 [29:27<22:57,  2.70s/it]"
     ]
    },
    {
     "name": "stdout",
     "output_type": "stream",
     "text": [
      "{'eval_loss': 0.4050520658493042, 'eval_accuracy': 0.9408866995073891, 'eval_precision': 0.9777777777777777, 'eval_recall': 0.8979591836734694, 'eval_f1': 0.9361702127659575, 'eval_runtime': 21.6628, 'eval_samples_per_second': 9.371, 'eval_steps_per_second': 1.2, 'epoch': 5.0}\n"
     ]
    },
    {
     "name": "stderr",
     "output_type": "stream",
     "text": [
      " 60%|██████    | 612/1020 [34:46<17:43,  2.61s/it]  \n",
      " 60%|██████    | 612/1020 [35:08<17:43,  2.61s/it]"
     ]
    },
    {
     "name": "stdout",
     "output_type": "stream",
     "text": [
      "{'eval_loss': 0.42552894353866577, 'eval_accuracy': 0.9261083743842364, 'eval_precision': 0.9770114942528736, 'eval_recall': 0.8673469387755102, 'eval_f1': 0.918918918918919, 'eval_runtime': 21.7251, 'eval_samples_per_second': 9.344, 'eval_steps_per_second': 1.197, 'epoch': 6.0}\n"
     ]
    },
    {
     "name": "stderr",
     "output_type": "stream",
     "text": [
      " 70%|███████   | 714/1020 [40:28<13:34,  2.66s/it]  \n",
      " 70%|███████   | 714/1020 [40:50<13:34,  2.66s/it]"
     ]
    },
    {
     "name": "stdout",
     "output_type": "stream",
     "text": [
      "{'eval_loss': 0.39993777871131897, 'eval_accuracy': 0.9507389162561576, 'eval_precision': 0.9782608695652174, 'eval_recall': 0.9183673469387755, 'eval_f1': 0.9473684210526315, 'eval_runtime': 21.4738, 'eval_samples_per_second': 9.453, 'eval_steps_per_second': 1.211, 'epoch': 7.0}\n"
     ]
    },
    {
     "name": "stderr",
     "output_type": "stream",
     "text": [
      " 80%|████████  | 816/1020 [46:10<09:00,  2.65s/it]\n",
      " 80%|████████  | 816/1020 [46:32<09:00,  2.65s/it]"
     ]
    },
    {
     "name": "stdout",
     "output_type": "stream",
     "text": [
      "{'eval_loss': 0.5196049213409424, 'eval_accuracy': 0.9359605911330049, 'eval_precision': 0.9775280898876404, 'eval_recall': 0.8877551020408163, 'eval_f1': 0.93048128342246, 'eval_runtime': 21.7418, 'eval_samples_per_second': 9.337, 'eval_steps_per_second': 1.196, 'epoch': 8.0}\n"
     ]
    },
    {
     "name": "stderr",
     "output_type": "stream",
     "text": [
      " 90%|█████████ | 918/1020 [51:53<04:33,  2.68s/it]\n",
      " 90%|█████████ | 918/1020 [52:14<04:33,  2.68s/it]"
     ]
    },
    {
     "name": "stdout",
     "output_type": "stream",
     "text": [
      "{'eval_loss': 0.523329496383667, 'eval_accuracy': 0.9408866995073891, 'eval_precision': 0.9777777777777777, 'eval_recall': 0.8979591836734694, 'eval_f1': 0.9361702127659575, 'eval_runtime': 21.4452, 'eval_samples_per_second': 9.466, 'eval_steps_per_second': 1.212, 'epoch': 9.0}\n"
     ]
    },
    {
     "name": "stderr",
     "output_type": "stream",
     "text": [
      " 98%|█████████▊| 1000/1020 [56:34<01:03,  3.17s/it]"
     ]
    },
    {
     "name": "stdout",
     "output_type": "stream",
     "text": [
      "{'loss': 0.0043, 'grad_norm': 0.00048229817184619606, 'learning_rate': 9.80392156862745e-07, 'epoch': 9.8}\n"
     ]
    },
    {
     "name": "stderr",
     "output_type": "stream",
     "text": [
      "100%|██████████| 1020/1020 [57:39<00:00,  2.68s/it]\n",
      "100%|██████████| 1020/1020 [58:03<00:00,  3.41s/it]\n"
     ]
    },
    {
     "name": "stdout",
     "output_type": "stream",
     "text": [
      "{'eval_loss': 0.5181981325149536, 'eval_accuracy': 0.9408866995073891, 'eval_precision': 0.9777777777777777, 'eval_recall': 0.8979591836734694, 'eval_f1': 0.9361702127659575, 'eval_runtime': 21.3669, 'eval_samples_per_second': 9.501, 'eval_steps_per_second': 1.217, 'epoch': 10.0}\n",
      "{'train_runtime': 3483.2381, 'train_samples_per_second': 2.328, 'train_steps_per_second': 0.293, 'train_loss': 0.07300707561006158, 'epoch': 10.0}\n"
     ]
    },
    {
     "name": "stderr",
     "output_type": "stream",
     "text": [
      "100%|██████████| 26/26 [00:20<00:00,  1.25it/s]\n"
     ]
    },
    {
     "name": "stdout",
     "output_type": "stream",
     "text": [
      "Training fold 4...\n"
     ]
    },
    {
     "name": "stderr",
     "output_type": "stream",
     "text": [
      "Some weights of RobertaForSequenceClassification were not initialized from the model checkpoint at distilroberta-base and are newly initialized: ['classifier.dense.bias', 'classifier.dense.weight', 'classifier.out_proj.bias', 'classifier.out_proj.weight']\n",
      "You should probably TRAIN this model on a down-stream task to be able to use it for predictions and inference.\n",
      "c:\\Users\\Lenovo\\Downloads\\Code Thesis\\env\\Lib\\site-packages\\transformers\\training_args.py:1568: FutureWarning: `evaluation_strategy` is deprecated and will be removed in version 4.46 of 🤗 Transformers. Use `eval_strategy` instead\n",
      "  warnings.warn(\n",
      "C:\\Users\\Lenovo\\AppData\\Local\\Temp\\ipykernel_10032\\3140443517.py:43: FutureWarning: `tokenizer` is deprecated and will be removed in version 5.0.0 for `Trainer.__init__`. Use `processing_class` instead.\n",
      "  trainer = Trainer(\n",
      " 10%|█         | 102/1020 [05:29<42:05,  2.75s/it]\n",
      " 10%|█         | 102/1020 [05:52<42:05,  2.75s/it]"
     ]
    },
    {
     "name": "stdout",
     "output_type": "stream",
     "text": [
      "{'eval_loss': 0.5127457976341248, 'eval_accuracy': 0.8817733990147784, 'eval_precision': 0.9891304347826086, 'eval_recall': 0.7982456140350878, 'eval_f1': 0.883495145631068, 'eval_runtime': 23.2026, 'eval_samples_per_second': 8.749, 'eval_steps_per_second': 1.121, 'epoch': 1.0}\n"
     ]
    },
    {
     "name": "stderr",
     "output_type": "stream",
     "text": [
      " 20%|██        | 204/1020 [11:26<35:50,  2.64s/it]  \n",
      " 20%|██        | 204/1020 [11:47<35:50,  2.64s/it]"
     ]
    },
    {
     "name": "stdout",
     "output_type": "stream",
     "text": [
      "{'eval_loss': 0.24222233891487122, 'eval_accuracy': 0.9507389162561576, 'eval_precision': 0.956140350877193, 'eval_recall': 0.956140350877193, 'eval_f1': 0.956140350877193, 'eval_runtime': 21.6603, 'eval_samples_per_second': 9.372, 'eval_steps_per_second': 1.2, 'epoch': 2.0}\n"
     ]
    },
    {
     "name": "stderr",
     "output_type": "stream",
     "text": [
      " 30%|███       | 306/1020 [17:19<32:12,  2.71s/it]  \n",
      " 30%|███       | 306/1020 [17:41<32:12,  2.71s/it]"
     ]
    },
    {
     "name": "stdout",
     "output_type": "stream",
     "text": [
      "{'eval_loss': 0.3322894871234894, 'eval_accuracy': 0.9310344827586207, 'eval_precision': 0.9464285714285714, 'eval_recall': 0.9298245614035088, 'eval_f1': 0.9380530973451328, 'eval_runtime': 21.75, 'eval_samples_per_second': 9.333, 'eval_steps_per_second': 1.195, 'epoch': 3.0}\n"
     ]
    },
    {
     "name": "stderr",
     "output_type": "stream",
     "text": [
      " 40%|████      | 408/1020 [23:12<28:08,  2.76s/it]  \n",
      " 40%|████      | 408/1020 [23:33<28:08,  2.76s/it]"
     ]
    },
    {
     "name": "stdout",
     "output_type": "stream",
     "text": [
      "{'eval_loss': 0.34961169958114624, 'eval_accuracy': 0.9507389162561576, 'eval_precision': 0.9814814814814815, 'eval_recall': 0.9298245614035088, 'eval_f1': 0.954954954954955, 'eval_runtime': 21.5686, 'eval_samples_per_second': 9.412, 'eval_steps_per_second': 1.205, 'epoch': 4.0}\n"
     ]
    },
    {
     "name": "stderr",
     "output_type": "stream",
     "text": [
      " 49%|████▉     | 500/1020 [28:36<28:35,  3.30s/it]  "
     ]
    },
    {
     "name": "stdout",
     "output_type": "stream",
     "text": [
      "{'loss': 0.1454, 'grad_norm': 0.01872587762773037, 'learning_rate': 2.5490196078431373e-05, 'epoch': 4.9}\n"
     ]
    },
    {
     "name": "stderr",
     "output_type": "stream",
     "text": [
      " 50%|█████     | 510/1020 [29:09<22:51,  2.69s/it]\n",
      " 50%|█████     | 510/1020 [29:31<22:51,  2.69s/it]"
     ]
    },
    {
     "name": "stdout",
     "output_type": "stream",
     "text": [
      "{'eval_loss': 0.4384641945362091, 'eval_accuracy': 0.9507389162561576, 'eval_precision': 0.9814814814814815, 'eval_recall': 0.9298245614035088, 'eval_f1': 0.954954954954955, 'eval_runtime': 21.6054, 'eval_samples_per_second': 9.396, 'eval_steps_per_second': 1.203, 'epoch': 5.0}\n"
     ]
    },
    {
     "name": "stderr",
     "output_type": "stream",
     "text": [
      " 60%|██████    | 612/1020 [34:49<18:01,  2.65s/it]  \n",
      " 60%|██████    | 612/1020 [35:11<18:01,  2.65s/it]"
     ]
    },
    {
     "name": "stdout",
     "output_type": "stream",
     "text": [
      "{'eval_loss': 0.6816512942314148, 'eval_accuracy': 0.9310344827586207, 'eval_precision': 0.9807692307692307, 'eval_recall': 0.8947368421052632, 'eval_f1': 0.9357798165137615, 'eval_runtime': 21.6851, 'eval_samples_per_second': 9.361, 'eval_steps_per_second': 1.199, 'epoch': 6.0}\n"
     ]
    },
    {
     "name": "stderr",
     "output_type": "stream",
     "text": [
      " 70%|███████   | 714/1020 [40:28<13:20,  2.61s/it]  \n",
      " 70%|███████   | 714/1020 [40:50<13:20,  2.61s/it]"
     ]
    },
    {
     "name": "stdout",
     "output_type": "stream",
     "text": [
      "{'eval_loss': 0.562383770942688, 'eval_accuracy': 0.9408866995073891, 'eval_precision': 0.9811320754716981, 'eval_recall': 0.9122807017543859, 'eval_f1': 0.9454545454545454, 'eval_runtime': 21.791, 'eval_samples_per_second': 9.316, 'eval_steps_per_second': 1.193, 'epoch': 7.0}\n"
     ]
    },
    {
     "name": "stderr",
     "output_type": "stream",
     "text": [
      " 80%|████████  | 816/1020 [46:08<08:56,  2.63s/it]\n",
      " 80%|████████  | 816/1020 [46:32<08:56,  2.63s/it]"
     ]
    },
    {
     "name": "stdout",
     "output_type": "stream",
     "text": [
      "{'eval_loss': 0.560398519039154, 'eval_accuracy': 0.9458128078817734, 'eval_precision': 0.9813084112149533, 'eval_recall': 0.9210526315789473, 'eval_f1': 0.9502262443438914, 'eval_runtime': 24.0716, 'eval_samples_per_second': 8.433, 'eval_steps_per_second': 1.08, 'epoch': 8.0}\n"
     ]
    },
    {
     "name": "stderr",
     "output_type": "stream",
     "text": [
      " 90%|█████████ | 918/1020 [52:11<04:45,  2.80s/it]\n",
      " 90%|█████████ | 918/1020 [52:33<04:45,  2.80s/it]"
     ]
    },
    {
     "name": "stdout",
     "output_type": "stream",
     "text": [
      "{'eval_loss': 0.5616401433944702, 'eval_accuracy': 0.9408866995073891, 'eval_precision': 0.9811320754716981, 'eval_recall': 0.9122807017543859, 'eval_f1': 0.9454545454545454, 'eval_runtime': 21.8406, 'eval_samples_per_second': 9.295, 'eval_steps_per_second': 1.19, 'epoch': 9.0}\n"
     ]
    },
    {
     "name": "stderr",
     "output_type": "stream",
     "text": [
      " 98%|█████████▊| 1000/1020 [57:01<01:03,  3.18s/it]"
     ]
    },
    {
     "name": "stdout",
     "output_type": "stream",
     "text": [
      "{'loss': 0.0075, 'grad_norm': 0.0004252715443726629, 'learning_rate': 9.80392156862745e-07, 'epoch': 9.8}\n"
     ]
    },
    {
     "name": "stderr",
     "output_type": "stream",
     "text": [
      "100%|██████████| 1020/1020 [58:08<00:00,  2.64s/it]\n",
      "100%|██████████| 1020/1020 [58:32<00:00,  3.44s/it]\n"
     ]
    },
    {
     "name": "stdout",
     "output_type": "stream",
     "text": [
      "{'eval_loss': 0.5630432963371277, 'eval_accuracy': 0.9408866995073891, 'eval_precision': 0.9811320754716981, 'eval_recall': 0.9122807017543859, 'eval_f1': 0.9454545454545454, 'eval_runtime': 21.4929, 'eval_samples_per_second': 9.445, 'eval_steps_per_second': 1.21, 'epoch': 10.0}\n",
      "{'train_runtime': 3512.4934, 'train_samples_per_second': 2.309, 'train_steps_per_second': 0.29, 'train_loss': 0.07491862639906365, 'epoch': 10.0}\n"
     ]
    },
    {
     "name": "stderr",
     "output_type": "stream",
     "text": [
      "100%|██████████| 26/26 [00:21<00:00,  1.21it/s]\n"
     ]
    },
    {
     "name": "stdout",
     "output_type": "stream",
     "text": [
      "Training fold 5...\n"
     ]
    },
    {
     "name": "stderr",
     "output_type": "stream",
     "text": [
      "Some weights of RobertaForSequenceClassification were not initialized from the model checkpoint at distilroberta-base and are newly initialized: ['classifier.dense.bias', 'classifier.dense.weight', 'classifier.out_proj.bias', 'classifier.out_proj.weight']\n",
      "You should probably TRAIN this model on a down-stream task to be able to use it for predictions and inference.\n",
      "c:\\Users\\Lenovo\\Downloads\\Code Thesis\\env\\Lib\\site-packages\\transformers\\training_args.py:1568: FutureWarning: `evaluation_strategy` is deprecated and will be removed in version 4.46 of 🤗 Transformers. Use `eval_strategy` instead\n",
      "  warnings.warn(\n",
      "C:\\Users\\Lenovo\\AppData\\Local\\Temp\\ipykernel_10032\\3140443517.py:43: FutureWarning: `tokenizer` is deprecated and will be removed in version 5.0.0 for `Trainer.__init__`. Use `processing_class` instead.\n",
      "  trainer = Trainer(\n",
      " 10%|█         | 102/1020 [05:36<43:57,  2.87s/it]\n",
      " 10%|█         | 102/1020 [05:58<43:57,  2.87s/it]"
     ]
    },
    {
     "name": "stdout",
     "output_type": "stream",
     "text": [
      "{'eval_loss': 0.14695677161216736, 'eval_accuracy': 0.9554455445544554, 'eval_precision': 0.9782608695652174, 'eval_recall': 0.9278350515463918, 'eval_f1': 0.9523809523809523, 'eval_runtime': 22.1539, 'eval_samples_per_second': 9.118, 'eval_steps_per_second': 1.174, 'epoch': 1.0}\n"
     ]
    },
    {
     "name": "stderr",
     "output_type": "stream",
     "text": [
      " 20%|██        | 204/1020 [11:37<40:01,  2.94s/it]  \n",
      " 20%|██        | 204/1020 [11:59<40:01,  2.94s/it]"
     ]
    },
    {
     "name": "stdout",
     "output_type": "stream",
     "text": [
      "{'eval_loss': 0.15474861860275269, 'eval_accuracy': 0.9653465346534653, 'eval_precision': 0.9891304347826086, 'eval_recall': 0.9381443298969072, 'eval_f1': 0.9629629629629629, 'eval_runtime': 21.7433, 'eval_samples_per_second': 9.29, 'eval_steps_per_second': 1.196, 'epoch': 2.0}\n"
     ]
    },
    {
     "name": "stderr",
     "output_type": "stream",
     "text": [
      " 30%|███       | 306/1020 [17:31<34:25,  2.89s/it]  \n",
      " 30%|███       | 306/1020 [17:53<34:25,  2.89s/it]"
     ]
    },
    {
     "name": "stdout",
     "output_type": "stream",
     "text": [
      "{'eval_loss': 0.19017042219638824, 'eval_accuracy': 0.9702970297029703, 'eval_precision': 0.989247311827957, 'eval_recall': 0.9484536082474226, 'eval_f1': 0.968421052631579, 'eval_runtime': 21.9169, 'eval_samples_per_second': 9.217, 'eval_steps_per_second': 1.186, 'epoch': 3.0}\n"
     ]
    },
    {
     "name": "stderr",
     "output_type": "stream",
     "text": [
      " 40%|████      | 408/1020 [23:25<28:54,  2.83s/it]  \n",
      " 40%|████      | 408/1020 [23:46<28:54,  2.83s/it]"
     ]
    },
    {
     "name": "stdout",
     "output_type": "stream",
     "text": [
      "{'eval_loss': 0.2532637119293213, 'eval_accuracy': 0.9603960396039604, 'eval_precision': 0.9587628865979382, 'eval_recall': 0.9587628865979382, 'eval_f1': 0.9587628865979382, 'eval_runtime': 21.4578, 'eval_samples_per_second': 9.414, 'eval_steps_per_second': 1.212, 'epoch': 4.0}\n"
     ]
    },
    {
     "name": "stderr",
     "output_type": "stream",
     "text": [
      " 49%|████▉     | 500/1020 [28:44<28:28,  3.29s/it]  "
     ]
    },
    {
     "name": "stdout",
     "output_type": "stream",
     "text": [
      "{'loss': 0.1306, 'grad_norm': 0.0011706247460097075, 'learning_rate': 2.5490196078431373e-05, 'epoch': 4.9}\n"
     ]
    },
    {
     "name": "stderr",
     "output_type": "stream",
     "text": [
      " 50%|█████     | 510/1020 [29:19<23:59,  2.82s/it]\n",
      " 50%|█████     | 510/1020 [29:41<23:59,  2.82s/it]"
     ]
    },
    {
     "name": "stdout",
     "output_type": "stream",
     "text": [
      "{'eval_loss': 0.30518102645874023, 'eval_accuracy': 0.9504950495049505, 'eval_precision': 0.9887640449438202, 'eval_recall': 0.9072164948453608, 'eval_f1': 0.946236559139785, 'eval_runtime': 21.5332, 'eval_samples_per_second': 9.381, 'eval_steps_per_second': 1.207, 'epoch': 5.0}\n"
     ]
    },
    {
     "name": "stderr",
     "output_type": "stream",
     "text": [
      " 60%|██████    | 612/1020 [35:06<18:59,  2.79s/it]  \n",
      " 60%|██████    | 612/1020 [35:27<18:59,  2.79s/it]"
     ]
    },
    {
     "name": "stdout",
     "output_type": "stream",
     "text": [
      "{'eval_loss': 0.28991377353668213, 'eval_accuracy': 0.9504950495049505, 'eval_precision': 0.9887640449438202, 'eval_recall': 0.9072164948453608, 'eval_f1': 0.946236559139785, 'eval_runtime': 21.5166, 'eval_samples_per_second': 9.388, 'eval_steps_per_second': 1.208, 'epoch': 6.0}\n"
     ]
    },
    {
     "name": "stderr",
     "output_type": "stream",
     "text": [
      " 70%|███████   | 714/1020 [40:53<14:20,  2.81s/it]  \n",
      " 70%|███████   | 714/1020 [41:15<14:20,  2.81s/it]"
     ]
    },
    {
     "name": "stdout",
     "output_type": "stream",
     "text": [
      "{'eval_loss': 0.3274470269680023, 'eval_accuracy': 0.9554455445544554, 'eval_precision': 0.9888888888888889, 'eval_recall': 0.9175257731958762, 'eval_f1': 0.9518716577540107, 'eval_runtime': 21.6985, 'eval_samples_per_second': 9.309, 'eval_steps_per_second': 1.198, 'epoch': 7.0}\n"
     ]
    },
    {
     "name": "stderr",
     "output_type": "stream",
     "text": [
      " 80%|████████  | 816/1020 [46:39<09:30,  2.80s/it]\n",
      " 80%|████████  | 816/1020 [47:00<09:30,  2.80s/it]"
     ]
    },
    {
     "name": "stdout",
     "output_type": "stream",
     "text": [
      "{'eval_loss': 0.3132208585739136, 'eval_accuracy': 0.9554455445544554, 'eval_precision': 0.9888888888888889, 'eval_recall': 0.9175257731958762, 'eval_f1': 0.9518716577540107, 'eval_runtime': 21.3986, 'eval_samples_per_second': 9.44, 'eval_steps_per_second': 1.215, 'epoch': 8.0}\n"
     ]
    },
    {
     "name": "stderr",
     "output_type": "stream",
     "text": [
      " 90%|█████████ | 918/1020 [52:24<04:36,  2.71s/it]\n",
      " 90%|█████████ | 918/1020 [52:46<04:36,  2.71s/it]"
     ]
    },
    {
     "name": "stdout",
     "output_type": "stream",
     "text": [
      "{'eval_loss': 0.31521517038345337, 'eval_accuracy': 0.9554455445544554, 'eval_precision': 0.9888888888888889, 'eval_recall': 0.9175257731958762, 'eval_f1': 0.9518716577540107, 'eval_runtime': 21.5873, 'eval_samples_per_second': 9.357, 'eval_steps_per_second': 1.204, 'epoch': 9.0}\n"
     ]
    },
    {
     "name": "stderr",
     "output_type": "stream",
     "text": [
      " 98%|█████████▊| 1000/1020 [57:08<01:04,  3.23s/it]"
     ]
    },
    {
     "name": "stdout",
     "output_type": "stream",
     "text": [
      "{'loss': 0.0004, 'grad_norm': 0.003112707519903779, 'learning_rate': 9.80392156862745e-07, 'epoch': 9.8}\n"
     ]
    },
    {
     "name": "stderr",
     "output_type": "stream",
     "text": [
      "100%|██████████| 1020/1020 [58:14<00:00,  2.71s/it]\n",
      "100%|██████████| 1020/1020 [58:37<00:00,  3.45s/it]\n"
     ]
    },
    {
     "name": "stdout",
     "output_type": "stream",
     "text": [
      "{'eval_loss': 0.31980279088020325, 'eval_accuracy': 0.9554455445544554, 'eval_precision': 0.9888888888888889, 'eval_recall': 0.9175257731958762, 'eval_f1': 0.9518716577540107, 'eval_runtime': 21.1984, 'eval_samples_per_second': 9.529, 'eval_steps_per_second': 1.227, 'epoch': 10.0}\n",
      "{'train_runtime': 3517.803, 'train_samples_per_second': 2.308, 'train_steps_per_second': 0.29, 'train_loss': 0.06421519715604875, 'epoch': 10.0}\n"
     ]
    },
    {
     "name": "stderr",
     "output_type": "stream",
     "text": [
      "100%|██████████| 26/26 [00:20<00:00,  1.25it/s]\n"
     ]
    }
   ],
   "source": [
    "for fold, (train_index, test_index) in enumerate(kf.split(texts)):\n",
    "    print(f\"Training fold {fold + 1}...\")\n",
    "    \n",
    "    # Split the data for this fold\n",
    "    train_texts = [texts[i] for i in train_index]\n",
    "    test_texts = [texts[i] for i in test_index]\n",
    "    train_labels = [labels[i] for i in train_index]\n",
    "    test_labels = [labels[i] for i in test_index]\n",
    "    \n",
    "    # Create datasets for this fold\n",
    "    train_dataset = CustomDataset(train_texts, train_labels, tokenizer)\n",
    "    test_dataset = CustomDataset(test_texts, test_labels, tokenizer)\n",
    "    \n",
    "    # Load model for each fold\n",
    "    model = RobertaForSequenceClassification.from_pretrained('distilroberta-base', num_labels=2)\n",
    "    \n",
    "    # Define training arguments for each fold\n",
    "    training_args = TrainingArguments(\n",
    "        output_dir='./results',\n",
    "        num_train_epochs=10,\n",
    "        per_device_train_batch_size=8,\n",
    "        per_device_eval_batch_size=8,\n",
    "        logging_dir='./logs',\n",
    "        evaluation_strategy=\"epoch\"\n",
    "    )\n",
    "\n",
    "    # Define metrics function\n",
    "    def compute_metrics(pred):\n",
    "        labels = pred.label_ids\n",
    "        preds = pred.predictions.argmax(-1)\n",
    "        accuracy = accuracy_score(labels, preds)\n",
    "        precision = precision_score(labels, preds)\n",
    "        recall = recall_score(labels, preds)\n",
    "        f1 = f1_score(labels, preds)\n",
    "        return {\n",
    "            'accuracy': accuracy,\n",
    "            'precision': precision,\n",
    "            'recall': recall,\n",
    "            'f1': f1\n",
    "        }\n",
    "\n",
    "    # Initialize Trainer\n",
    "    trainer = Trainer(\n",
    "        model=model,\n",
    "        args=training_args,\n",
    "        train_dataset=train_dataset,\n",
    "        eval_dataset=test_dataset,\n",
    "        tokenizer=tokenizer,\n",
    "        compute_metrics=compute_metrics\n",
    "    )\n",
    "\n",
    "    # Train and evaluate\n",
    "    trainer.train()\n",
    "    eval_results = trainer.evaluate()\n",
    "\n",
    "    # Extract and store metrics for this fold\n",
    "    accuracy = eval_results['eval_accuracy']\n",
    "    precision = eval_results['eval_precision']\n",
    "    recall = eval_results['eval_recall']\n",
    "    f1 = eval_results['eval_f1']\n",
    "\n",
    "    accuracy_scores.append(accuracy)\n",
    "    precision_scores.append(precision)\n",
    "    recall_scores.append(recall)\n",
    "    f1_scores.append(f1)\n",
    "    \n",
    "    # Track the best model based on accuracy\n",
    "    if accuracy > best_accuracy:\n",
    "        best_accuracy = accuracy\n",
    "        best_model = model\n",
    "        best_fold = fold+1"
   ]
  },
  {
   "cell_type": "code",
   "execution_count": 96,
   "metadata": {},
   "outputs": [
    {
     "name": "stdout",
     "output_type": "stream",
     "text": [
      "Average Accuracy: 0.9546359069404478\n",
      "Average Precision: 0.9791545141516071\n",
      "Average Recall: 0.929038057631747\n",
      "Average F1 Score: 0.9531901196000738\n",
      "Best model saved as 'transformer'\n"
     ]
    }
   ],
   "source": [
    "# Save the best model\n",
    "best_model.save_pretrained(\"transformer\")\n",
    "tokenizer.save_pretrained(\"transformer\")\n",
    "\n",
    "# Print average metrics across all folds\n",
    "print(f\"Average Accuracy: {np.mean(accuracy_scores)}\")\n",
    "print(f\"Average Precision: {np.mean(precision_scores)}\")\n",
    "print(f\"Average Recall: {np.mean(recall_scores)}\")\n",
    "print(f\"Average F1 Score: {np.mean(f1_scores)}\")\n",
    "print(\"Best model saved as 'transformer'\")"
   ]
  },
  {
   "cell_type": "code",
   "execution_count": 97,
   "metadata": {},
   "outputs": [
    {
     "name": "stdout",
     "output_type": "stream",
     "text": [
      "Accuracy: 0.951\n",
      "Precision: 0.9447731755424064\n",
      "Recall: 0.958\n",
      "F1 Score: 0.9513406156901688\n"
     ]
    }
   ],
   "source": [
    "import pandas as pd\n",
    "from sklearn.metrics import accuracy_score, precision_score, recall_score, f1_score\n",
    "from transformers import RobertaForSequenceClassification, RobertaTokenizer\n",
    "import torch\n",
    "\n",
    "# Load the pre-trained model and tokenizer from the folder\n",
    "model = RobertaForSequenceClassification.from_pretrained('transformer')\n",
    "tokenizer = RobertaTokenizer.from_pretrained('transformer')\n",
    "\n",
    "# Load the new dataset (e.g., 'test.xlsx')\n",
    "test_data = pd.read_excel('../test.xlsx')\n",
    "\n",
    "# Extract the true labels for the test set\n",
    "true_labels = test_data['kategori'].tolist()  # Assuming 'kategori_enc' has the true labels\n",
    "\n",
    "# Preprocess the new data (tokenize and prepare the input)\n",
    "test_texts = test_data['berita'].tolist()\n",
    "\n",
    "# Tokenize the texts\n",
    "encoding = tokenizer(test_texts, truncation=True, padding=True, max_length=216, return_tensors=\"pt\")\n",
    "\n",
    "# Get the input tensors\n",
    "input_ids = encoding['input_ids']\n",
    "attention_mask = encoding['attention_mask']\n",
    "\n",
    "# Make predictions\n",
    "model.eval()  # Set the model to evaluation mode\n",
    "with torch.no_grad():  # Disable gradient calculation during inference\n",
    "    outputs = model(input_ids, attention_mask=attention_mask)\n",
    "    logits = outputs.logits  # Model outputs raw logits\n",
    "\n",
    "# Convert logits to predicted labels (using argmax to get the highest probability)\n",
    "predictions = torch.argmax(logits, dim=-1)\n",
    "\n",
    "# Convert predictions and true labels to numpy arrays\n",
    "predicted_labels = predictions.numpy()\n",
    "true_labels = torch.tensor(true_labels).numpy()\n",
    "\n",
    "# Calculate metrics\n",
    "accuracy = accuracy_score(true_labels, predicted_labels)\n",
    "precision = precision_score(true_labels, predicted_labels)\n",
    "recall = recall_score(true_labels, predicted_labels)\n",
    "f1 = f1_score(true_labels, predicted_labels)\n",
    "\n",
    "# Print the metrics\n",
    "print(f\"Accuracy: {accuracy}\")\n",
    "print(f\"Precision: {precision}\")\n",
    "print(f\"Recall: {recall}\")\n",
    "print(f\"F1 Score: {f1}\")\n"
   ]
  },
  {
   "cell_type": "code",
   "execution_count": 98,
   "metadata": {},
   "outputs": [
    {
     "name": "stdout",
     "output_type": "stream",
     "text": [
      "1\n"
     ]
    }
   ],
   "source": [
    "print(best_fold)"
   ]
  },
  {
   "cell_type": "code",
   "execution_count": null,
   "metadata": {},
   "outputs": [],
   "source": []
  }
 ],
 "metadata": {
  "colab": {
   "collapsed_sections": [
    "kVzVhxtJoZyV",
    "oQ04kvYaqxSl"
   ],
   "provenance": []
  },
  "kernelspec": {
   "display_name": "env",
   "language": "python",
   "name": "python3"
  },
  "language_info": {
   "codemirror_mode": {
    "name": "ipython",
    "version": 3
   },
   "file_extension": ".py",
   "mimetype": "text/x-python",
   "name": "python",
   "nbconvert_exporter": "python",
   "pygments_lexer": "ipython3",
   "version": "3.11.0"
  }
 },
 "nbformat": 4,
 "nbformat_minor": 0
}
